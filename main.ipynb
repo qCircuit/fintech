{
 "cells": [
  {
   "cell_type": "code",
   "execution_count": 1,
   "metadata": {},
   "outputs": [
    {
     "name": "stderr",
     "output_type": "stream",
     "text": [
      "2023-08-11 15:58:03.705513: I tensorflow/core/platform/cpu_feature_guard.cc:182] This TensorFlow binary is optimized to use available CPU instructions in performance-critical operations.\n",
      "To enable the following instructions: AVX2 FMA, in other operations, rebuild TensorFlow with the appropriate compiler flags.\n",
      "2023-08-11 15:58:04.327696: W tensorflow/compiler/tf2tensorrt/utils/py_utils.cc:38] TF-TRT Warning: Could not find TensorRT\n"
     ]
    }
   ],
   "source": [
    "import numpy as np\n",
    "import pandas as pd\n",
    "import seaborn as sns\n",
    "import yfinance as yf\n",
    "import matplotlib.pyplot as plt\n",
    "\n",
    "from scipy.signal import argrelextrema\n",
    "from scipy.stats import linregress\n",
    "\n",
    "import configur\n",
    "import ticker\n",
    "import train\n",
    "\n",
    "import tensorflow as tf"
   ]
  },
  {
   "cell_type": "code",
   "execution_count": 2,
   "metadata": {},
   "outputs": [
    {
     "name": "stderr",
     "output_type": "stream",
     "text": [
      "2023-08-11 15:58:06,374 - INFO - data loaded: 2021-07-01 - 2023-06-25, shape: (4581, 6)\n",
      "2023-08-11 15:58:06,375 - INFO - data smoothed, shape: (4581, 7)\n",
      "2023-08-11 15:58:06,379 - INFO - extrema collected, shape: (4581, 9)\n"
     ]
    },
    {
     "name": "stderr",
     "output_type": "stream",
     "text": [
      "2023-08-11 15:58:06,435 - INFO - support lines collected, shape: (4581, 10)\n",
      "2023-08-11 15:58:06,439 - INFO - extrema collected, shape: (4581, 10)\n",
      "2023-08-11 15:58:06,493 - INFO - resistance lines collected, shape: (4581, 11)\n",
      "2023-08-11 15:58:06,494 - INFO - data smoothed, shape: (4581, 11)\n",
      "2023-08-11 15:58:06,496 - INFO - moving averages collected, shape: (4581, 13)\n",
      "2023-08-11 15:58:06,497 - INFO - data smoothed, shape: (4581, 13)\n",
      "2023-08-11 15:58:06,970 - INFO - stochastic oscillator collected, shape: (4581, 14)\n"
     ]
    },
    {
     "data": {
      "text/plain": [
       "0       0.000000\n",
       "1       0.000000\n",
       "2       0.000000\n",
       "3       0.000000\n",
       "4       0.000000\n",
       "          ...   \n",
       "4576    0.334381\n",
       "4577    0.195372\n",
       "4578    0.113966\n",
       "4579    0.060957\n",
       "4580    0.000000\n",
       "Length: 4581, dtype: float64"
      ]
     },
     "execution_count": 2,
     "metadata": {},
     "output_type": "execute_result"
    }
   ],
   "source": [
    "repsol = ticker.Ticker(\"REP.MC\")\n",
    "if configur.data_mode == \"download\":\n",
    "    repsol.yf_download(\n",
    "        configur.start_date, \n",
    "        configur.end_date, \n",
    "        configur.interval\n",
    "    )\n",
    "elif configur.data_mode == \"load\":\n",
    "    repsol.upload_data(\n",
    "        configur.start_date, \n",
    "        configur.end_date\n",
    "    )\n",
    "\n",
    "repsol.get_smooth()\n",
    "repsol.get_support()\n",
    "repsol.get_resistance()\n",
    "repsol.get_moving_average()\n",
    "repsol.get_stochastic_oscillator(configur.oscillator_period)"
   ]
  },
  {
   "cell_type": "code",
   "execution_count": 11,
   "metadata": {},
   "outputs": [
    {
     "data": {
      "text/html": [
       "<div>\n",
       "<style scoped>\n",
       "    .dataframe tbody tr th:only-of-type {\n",
       "        vertical-align: middle;\n",
       "    }\n",
       "\n",
       "    .dataframe tbody tr th {\n",
       "        vertical-align: top;\n",
       "    }\n",
       "\n",
       "    .dataframe thead th {\n",
       "        text-align: right;\n",
       "    }\n",
       "</style>\n",
       "<table border=\"1\" class=\"dataframe\">\n",
       "  <thead>\n",
       "    <tr style=\"text-align: right;\">\n",
       "      <th></th>\n",
       "      <th>Open</th>\n",
       "      <th>High</th>\n",
       "      <th>Low</th>\n",
       "      <th>Adj Close</th>\n",
       "      <th>Volume</th>\n",
       "      <th>smoothed_series</th>\n",
       "      <th>local_min</th>\n",
       "      <th>local_max</th>\n",
       "      <th>support_line</th>\n",
       "      <th>resistance_line</th>\n",
       "      <th>moving_average_short</th>\n",
       "      <th>moving_average_long</th>\n",
       "      <th>stochastic_oscillator</th>\n",
       "    </tr>\n",
       "  </thead>\n",
       "  <tbody>\n",
       "    <tr>\n",
       "      <th>0</th>\n",
       "      <td>10.660</td>\n",
       "      <td>10.762</td>\n",
       "      <td>10.626</td>\n",
       "      <td>10.722</td>\n",
       "      <td>141705</td>\n",
       "      <td>10.722000</td>\n",
       "      <td>0.000000</td>\n",
       "      <td>0.000000</td>\n",
       "      <td>10.722000</td>\n",
       "      <td>10.722000</td>\n",
       "      <td>0.000000</td>\n",
       "      <td>0.000000</td>\n",
       "      <td>0.000000</td>\n",
       "    </tr>\n",
       "    <tr>\n",
       "      <th>1</th>\n",
       "      <td>10.728</td>\n",
       "      <td>10.868</td>\n",
       "      <td>10.706</td>\n",
       "      <td>10.822</td>\n",
       "      <td>16887962</td>\n",
       "      <td>10.780823</td>\n",
       "      <td>0.000000</td>\n",
       "      <td>10.780823</td>\n",
       "      <td>10.735660</td>\n",
       "      <td>10.780823</td>\n",
       "      <td>0.000000</td>\n",
       "      <td>0.000000</td>\n",
       "      <td>0.000000</td>\n",
       "    </tr>\n",
       "    <tr>\n",
       "      <th>2</th>\n",
       "      <td>10.838</td>\n",
       "      <td>10.868</td>\n",
       "      <td>10.714</td>\n",
       "      <td>10.746</td>\n",
       "      <td>279069</td>\n",
       "      <td>10.764922</td>\n",
       "      <td>0.000000</td>\n",
       "      <td>0.000000</td>\n",
       "      <td>10.749319</td>\n",
       "      <td>10.784374</td>\n",
       "      <td>0.000000</td>\n",
       "      <td>0.000000</td>\n",
       "      <td>0.000000</td>\n",
       "    </tr>\n",
       "    <tr>\n",
       "      <th>3</th>\n",
       "      <td>10.784</td>\n",
       "      <td>10.822</td>\n",
       "      <td>10.714</td>\n",
       "      <td>10.760</td>\n",
       "      <td>345635</td>\n",
       "      <td>10.762979</td>\n",
       "      <td>10.762979</td>\n",
       "      <td>0.000000</td>\n",
       "      <td>10.762979</td>\n",
       "      <td>10.787924</td>\n",
       "      <td>0.000000</td>\n",
       "      <td>0.000000</td>\n",
       "      <td>0.000000</td>\n",
       "    </tr>\n",
       "    <tr>\n",
       "      <th>4</th>\n",
       "      <td>10.758</td>\n",
       "      <td>10.850</td>\n",
       "      <td>10.738</td>\n",
       "      <td>10.842</td>\n",
       "      <td>8516401</td>\n",
       "      <td>10.791475</td>\n",
       "      <td>0.000000</td>\n",
       "      <td>10.791475</td>\n",
       "      <td>10.759936</td>\n",
       "      <td>10.791475</td>\n",
       "      <td>0.000000</td>\n",
       "      <td>0.000000</td>\n",
       "      <td>0.000000</td>\n",
       "    </tr>\n",
       "    <tr>\n",
       "      <th>...</th>\n",
       "      <td>...</td>\n",
       "      <td>...</td>\n",
       "      <td>...</td>\n",
       "      <td>...</td>\n",
       "      <td>...</td>\n",
       "      <td>...</td>\n",
       "      <td>...</td>\n",
       "      <td>...</td>\n",
       "      <td>...</td>\n",
       "      <td>...</td>\n",
       "      <td>...</td>\n",
       "      <td>...</td>\n",
       "      <td>...</td>\n",
       "    </tr>\n",
       "    <tr>\n",
       "      <th>4576</th>\n",
       "      <td>13.125</td>\n",
       "      <td>13.145</td>\n",
       "      <td>13.110</td>\n",
       "      <td>13.115</td>\n",
       "      <td>12051813</td>\n",
       "      <td>13.144852</td>\n",
       "      <td>0.000000</td>\n",
       "      <td>0.000000</td>\n",
       "      <td>13.104039</td>\n",
       "      <td>13.119300</td>\n",
       "      <td>13.224582</td>\n",
       "      <td>13.302044</td>\n",
       "      <td>0.334381</td>\n",
       "    </tr>\n",
       "    <tr>\n",
       "      <th>4577</th>\n",
       "      <td>13.110</td>\n",
       "      <td>13.110</td>\n",
       "      <td>12.965</td>\n",
       "      <td>12.970</td>\n",
       "      <td>239699</td>\n",
       "      <td>13.092397</td>\n",
       "      <td>0.000000</td>\n",
       "      <td>0.000000</td>\n",
       "      <td>13.082698</td>\n",
       "      <td>13.094143</td>\n",
       "      <td>13.189350</td>\n",
       "      <td>13.281395</td>\n",
       "      <td>0.195372</td>\n",
       "    </tr>\n",
       "    <tr>\n",
       "      <th>4578</th>\n",
       "      <td>12.965</td>\n",
       "      <td>13.015</td>\n",
       "      <td>12.920</td>\n",
       "      <td>12.990</td>\n",
       "      <td>261616</td>\n",
       "      <td>13.061678</td>\n",
       "      <td>0.000000</td>\n",
       "      <td>0.000000</td>\n",
       "      <td>13.061356</td>\n",
       "      <td>13.068986</td>\n",
       "      <td>13.152259</td>\n",
       "      <td>13.257941</td>\n",
       "      <td>0.113966</td>\n",
       "    </tr>\n",
       "    <tr>\n",
       "      <th>4579</th>\n",
       "      <td>12.995</td>\n",
       "      <td>13.020</td>\n",
       "      <td>12.965</td>\n",
       "      <td>12.995</td>\n",
       "      <td>147005</td>\n",
       "      <td>13.041674</td>\n",
       "      <td>0.000000</td>\n",
       "      <td>0.000000</td>\n",
       "      <td>13.040014</td>\n",
       "      <td>13.043829</td>\n",
       "      <td>13.123510</td>\n",
       "      <td>13.232630</td>\n",
       "      <td>0.060957</td>\n",
       "    </tr>\n",
       "    <tr>\n",
       "      <th>4580</th>\n",
       "      <td>12.995</td>\n",
       "      <td>12.995</td>\n",
       "      <td>12.930</td>\n",
       "      <td>12.965</td>\n",
       "      <td>127067</td>\n",
       "      <td>13.018672</td>\n",
       "      <td>0.000000</td>\n",
       "      <td>0.000000</td>\n",
       "      <td>13.018672</td>\n",
       "      <td>13.018672</td>\n",
       "      <td>13.098671</td>\n",
       "      <td>13.206448</td>\n",
       "      <td>0.000000</td>\n",
       "    </tr>\n",
       "  </tbody>\n",
       "</table>\n",
       "<p>4581 rows × 13 columns</p>\n",
       "</div>"
      ],
      "text/plain": [
       "        Open    High     Low  Adj Close    Volume  smoothed_series  local_min  \\\n",
       "0     10.660  10.762  10.626     10.722    141705        10.722000   0.000000   \n",
       "1     10.728  10.868  10.706     10.822  16887962        10.780823   0.000000   \n",
       "2     10.838  10.868  10.714     10.746    279069        10.764922   0.000000   \n",
       "3     10.784  10.822  10.714     10.760    345635        10.762979  10.762979   \n",
       "4     10.758  10.850  10.738     10.842   8516401        10.791475   0.000000   \n",
       "...      ...     ...     ...        ...       ...              ...        ...   \n",
       "4576  13.125  13.145  13.110     13.115  12051813        13.144852   0.000000   \n",
       "4577  13.110  13.110  12.965     12.970    239699        13.092397   0.000000   \n",
       "4578  12.965  13.015  12.920     12.990    261616        13.061678   0.000000   \n",
       "4579  12.995  13.020  12.965     12.995    147005        13.041674   0.000000   \n",
       "4580  12.995  12.995  12.930     12.965    127067        13.018672   0.000000   \n",
       "\n",
       "      local_max  support_line  resistance_line  moving_average_short  \\\n",
       "0      0.000000     10.722000        10.722000              0.000000   \n",
       "1     10.780823     10.735660        10.780823              0.000000   \n",
       "2      0.000000     10.749319        10.784374              0.000000   \n",
       "3      0.000000     10.762979        10.787924              0.000000   \n",
       "4     10.791475     10.759936        10.791475              0.000000   \n",
       "...         ...           ...              ...                   ...   \n",
       "4576   0.000000     13.104039        13.119300             13.224582   \n",
       "4577   0.000000     13.082698        13.094143             13.189350   \n",
       "4578   0.000000     13.061356        13.068986             13.152259   \n",
       "4579   0.000000     13.040014        13.043829             13.123510   \n",
       "4580   0.000000     13.018672        13.018672             13.098671   \n",
       "\n",
       "      moving_average_long  stochastic_oscillator  \n",
       "0                0.000000               0.000000  \n",
       "1                0.000000               0.000000  \n",
       "2                0.000000               0.000000  \n",
       "3                0.000000               0.000000  \n",
       "4                0.000000               0.000000  \n",
       "...                   ...                    ...  \n",
       "4576            13.302044               0.334381  \n",
       "4577            13.281395               0.195372  \n",
       "4578            13.257941               0.113966  \n",
       "4579            13.232630               0.060957  \n",
       "4580            13.206448               0.000000  \n",
       "\n",
       "[4581 rows x 13 columns]"
      ]
     },
     "execution_count": 11,
     "metadata": {},
     "output_type": "execute_result"
    }
   ],
   "source": [
    "def get_xy(data):\n",
    "    x = data.drop(configur.target, axis=1)\n",
    "    y = data[configur.target]\n",
    "    # util.logger.info(f\"x shape: {x.shape}, y shape: {y.shape}\")\n",
    "\n",
    "    return x,y\n",
    "\n",
    "def normalize_input(x):\n",
    "    layer = tf.keras.layers.Normalization(axis=None)\n",
    "    layer.adapt(x)\n",
    "    \n",
    "    return layer(x)\n",
    "\n",
    "def split_data(x, y):\n",
    "    n = int(len(x) * configur.train_test_size)\n",
    "    xtr, xvl = x[:n, :], x[n:, :]\n",
    "    ytr, yvl = y[:n], y[n:]\n",
    "\n",
    "    # util.logger.info(f\"data splited, train/test shapes: {xtr.shape, ytr.shape}/{xvl.shape, yvl.shape}\")\n",
    "    \n",
    "    return xtr, xvl, ytr, yvl\n",
    "\n",
    "x,y = get_xy(repsol.data)\n",
    "x"
   ]
  },
  {
   "cell_type": "code",
   "execution_count": 12,
   "metadata": {},
   "outputs": [
    {
     "data": {
      "text/plain": [
       "array([[0.26021442, 0.26078141, 0.26302191, ..., 0.        , 0.        ,\n",
       "        0.        ],\n",
       "       [0.26944475, 0.27511153, 0.27390181, ..., 0.        , 0.        ,\n",
       "        0.        ],\n",
       "       [0.28437629, 0.27511153, 0.27498972, ..., 0.        , 0.        ,\n",
       "        0.        ],\n",
       "       ...,\n",
       "       [0.57309621, 0.56536441, 0.57500338, ..., 0.82141091, 0.82925036,\n",
       "        0.11396585],\n",
       "       [0.57716839, 0.56604037, 0.58112334, ..., 0.81961541, 0.82766723,\n",
       "        0.06095654],\n",
       "       [0.57716839, 0.56266055, 0.5763634 , ..., 0.81806413, 0.82602961,\n",
       "        0.        ]])"
      ]
     },
     "execution_count": 12,
     "metadata": {},
     "output_type": "execute_result"
    }
   ],
   "source": [
    "def normalize_input(x, option=\"minmax\"):\n",
    "    if option==\"minmax\":\n",
    "        scaler = MinMaxScaler()\n",
    "        x = scaler.fit_transform(x)\n",
    "    if option==\"keras\":\n",
    "        layer = tf.keras.layers.Normalization(axis=None)\n",
    "        layer.adapt(x)\n",
    "        x = layer(x)\n",
    "    \n",
    "    return x\n",
    "\n",
    "x = normalize_input(x)\n",
    "x"
   ]
  },
  {
   "cell_type": "code",
   "execution_count": 15,
   "metadata": {},
   "outputs": [
    {
     "ename": "TypeError",
     "evalue": "only integer scalar arrays can be converted to a scalar index",
     "output_type": "error",
     "traceback": [
      "\u001b[0;31m---------------------------------------------------------------------------\u001b[0m",
      "\u001b[0;31mTypeError\u001b[0m                                 Traceback (most recent call last)",
      "Cell \u001b[0;32mIn[15], line 1\u001b[0m\n\u001b[0;32m----> 1\u001b[0m xtr\u001b[39m.\u001b[39;49mreshape(xtr[\u001b[39m0\u001b[39;49m], xtr[\u001b[39m1\u001b[39;49m], \u001b[39m1\u001b[39;49m)\n",
      "\u001b[0;31mTypeError\u001b[0m: only integer scalar arrays can be converted to a scalar index"
     ]
    }
   ],
   "source": [
    "xtr.reshape(xtr[0], xtr[1], 1)"
   ]
  },
  {
   "cell_type": "code",
   "execution_count": 13,
   "metadata": {},
   "outputs": [
    {
     "ename": "TypeError",
     "evalue": "only integer scalar arrays can be converted to a scalar index",
     "output_type": "error",
     "traceback": [
      "\u001b[0;31m---------------------------------------------------------------------------\u001b[0m",
      "\u001b[0;31mTypeError\u001b[0m                                 Traceback (most recent call last)",
      "Cell \u001b[0;32mIn[13], line 2\u001b[0m\n\u001b[1;32m      1\u001b[0m xtr, xts, ytr, yts \u001b[39m=\u001b[39m split_data(x, y)\n\u001b[0;32m----> 2\u001b[0m xtr \u001b[39m=\u001b[39m xtr\u001b[39m.\u001b[39;49mreshape(xtr[\u001b[39m0\u001b[39;49m], xtr[\u001b[39m1\u001b[39;49m], \u001b[39m1\u001b[39;49m)\n\u001b[1;32m      3\u001b[0m xts \u001b[39m=\u001b[39m xts\u001b[39m.\u001b[39mreshape(xts[\u001b[39m0\u001b[39m], xts[\u001b[39m1\u001b[39m], \u001b[39m1\u001b[39m)\n",
      "\u001b[0;31mTypeError\u001b[0m: only integer scalar arrays can be converted to a scalar index"
     ]
    }
   ],
   "source": [
    "xtr, xts, ytr, yts = split_data(x, y)\n",
    "xtr = xtr.reshape(xtr[0], xtr[1], 1)\n",
    "xts = xts.reshape(xts[0], xts[1], 1)"
   ]
  },
  {
   "cell_type": "code",
   "execution_count": 41,
   "metadata": {},
   "outputs": [],
   "source": [
    "\n",
    "\n",
    "\n",
    "\n",
    "\n",
    "\n",
    "def preprocess(data):\n",
    "    x,y = get_xy(data)\n",
    "    x = normalize_input(x)\n",
    "    xtr, xvl, ytr, yvl = split_data(x, y)\n",
    "\n",
    "    # reshape (rows, time_step, no_feats)\n",
    "    xtr = tf.reshape(xtr, (xtr.shape[0], 1, xtr.shape[1]))\n",
    "    xvl = tf.reshape(xvl, (xvl.shape[0], 1, xvl.shape[1])) \n",
    "\n",
    "    # convert to Tensor\n",
    "    ytr, yvl = tf.constant(ytr.values), tf.constant(yvl.values)\n",
    "\n",
    "    return xtr, xvl, ytr, yvl\n",
    "\n",
    "xtr, xvl, ytr, yvl = preprocess(repsol.data)"
   ]
  },
  {
   "cell_type": "code",
   "execution_count": 45,
   "metadata": {},
   "outputs": [
    {
     "data": {
      "text/plain": [
       "<tf.Tensor: shape=(3664,), dtype=float64, numpy=\n",
       "array([10.72200012, 10.82199955, 10.74600029, ..., 15.25      ,\n",
       "       15.25500011, 15.14500046])>"
      ]
     },
     "execution_count": 45,
     "metadata": {},
     "output_type": "execute_result"
    }
   ],
   "source": [
    "ytr"
   ]
  },
  {
   "cell_type": "code",
   "execution_count": 46,
   "metadata": {},
   "outputs": [
    {
     "data": {
      "text/plain": [
       "<tf.Tensor: shape=(3664, 1), dtype=float64, numpy=\n",
       "array([[10.72200012],\n",
       "       [10.82199955],\n",
       "       [10.74600029],\n",
       "       ...,\n",
       "       [15.25      ],\n",
       "       [15.25500011],\n",
       "       [15.14500046]])>"
      ]
     },
     "execution_count": 46,
     "metadata": {},
     "output_type": "execute_result"
    }
   ],
   "source": [
    "tf.reshape(ytr, (ytr.shape[0], 1))"
   ]
  },
  {
   "cell_type": "code",
   "execution_count": 47,
   "metadata": {},
   "outputs": [
    {
     "data": {
      "text/plain": [
       "<tf.Tensor: shape=(3664,), dtype=float64, numpy=\n",
       "array([10.72200012, 10.82199955, 10.74600029, ..., 15.25      ,\n",
       "       15.25500011, 15.14500046])>"
      ]
     },
     "execution_count": 47,
     "metadata": {},
     "output_type": "execute_result"
    }
   ],
   "source": [
    "ytr"
   ]
  },
  {
   "cell_type": "code",
   "execution_count": 40,
   "metadata": {},
   "outputs": [
    {
     "data": {
      "text/plain": [
       "<tf.Tensor: shape=(3664, 1, 13), dtype=float32, numpy=\n",
       "array([[[-0.09213949, -0.09213927, -0.09213956, ..., -0.09216199,\n",
       "         -0.09216199, -0.09216199]],\n",
       "\n",
       "       [[-0.09213935, -0.09213906, -0.09213939, ..., -0.09216199,\n",
       "         -0.09216199, -0.09216199]],\n",
       "\n",
       "       [[-0.09213911, -0.09213906, -0.09213938, ..., -0.09216199,\n",
       "         -0.09216199, -0.09216199]],\n",
       "\n",
       "       ...,\n",
       "\n",
       "       [[-0.09212966, -0.09212957, -0.09212984, ..., -0.09212979,\n",
       "         -0.09212999, -0.09215999]],\n",
       "\n",
       "       [[-0.09212981, -0.09212977, -0.09212991, ..., -0.09212975,\n",
       "         -0.09212995, -0.09216005]],\n",
       "\n",
       "       [[-0.09213012, -0.09213   , -0.09213027, ..., -0.09212974,\n",
       "         -0.09212992, -0.09216033]]], dtype=float32)>"
      ]
     },
     "execution_count": 40,
     "metadata": {},
     "output_type": "execute_result"
    }
   ],
   "source": [
    "tf.reshape(xtr, (xtr.shape[0], 1, xtr.shape[1]))"
   ]
  },
  {
   "cell_type": "code",
   "execution_count": 26,
   "metadata": {},
   "outputs": [],
   "source": [
    "def normalize_input(x):\n",
    "    layer = tf.keras.layers.Normalization(axis=None)\n",
    "    layer.adapt(x)\n",
    "\n",
    "    return layer(x)\n",
    "\n",
    "x = normalize_input(x)"
   ]
  },
  {
   "cell_type": "code",
   "execution_count": 30,
   "metadata": {},
   "outputs": [
    {
     "data": {
      "text/plain": [
       "<tf.Tensor: shape=(1, 13), dtype=float32, numpy=\n",
       "array([[-0.09213949, -0.09213927, -0.09213956, -0.09213936,  0.20694534,\n",
       "        -0.09213936, -0.09216199, -0.09216199, -0.09213936, -0.09213936,\n",
       "        -0.09216199, -0.09216199, -0.09216199]], dtype=float32)>"
      ]
     },
     "execution_count": 30,
     "metadata": {},
     "output_type": "execute_result"
    }
   ],
   "source": [
    "x[:1, :]"
   ]
  }
 ],
 "metadata": {
  "kernelspec": {
   "display_name": "base",
   "language": "python",
   "name": "python3"
  },
  "language_info": {
   "codemirror_mode": {
    "name": "ipython",
    "version": 3
   },
   "file_extension": ".py",
   "mimetype": "text/x-python",
   "name": "python",
   "nbconvert_exporter": "python",
   "pygments_lexer": "ipython3",
   "version": "3.10.9"
  },
  "orig_nbformat": 4
 },
 "nbformat": 4,
 "nbformat_minor": 2
}
