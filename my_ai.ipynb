{
 "cells": [
  {
   "cell_type": "code",
   "execution_count": 1307,
   "metadata": {
    "cellId": "bx48vbfta8mnww0yyjp8a"
   },
   "outputs": [],
   "source": [
    "import time\n",
    "import logging\n",
    "import requests\n",
    "import matplotlib.pyplot as plt\n",
    "import numpy as np\n",
    "import pandas as pd\n",
    "from datetime import datetime, timedelta\n",
    "from math import sqrt\n",
    "from bs4 import BeautifulSoup\n",
    "from scipy.signal import argrelextrema, savgol_filter\n",
    "from scipy.stats import linregress\n",
    "from IPython.display import clear_output\n",
    "from collections import defaultdict"
   ]
  },
  {
   "cell_type": "markdown",
   "metadata": {
    "cellId": "r7hoedxze3tv1zsdp6z2",
    "execution_id": "b5be7645-e32e-4eef-9c4c-faee4c61bd05"
   },
   "source": [
    "# utility functions and tests"
   ]
  },
  {
   "cell_type": "code",
   "execution_count": 1309,
   "metadata": {
    "cellId": "5378ff5ob16ca4de473oy"
   },
   "outputs": [],
   "source": [
    "def chunker(seq, size):\n",
    "    return (seq[idx:idx + size] for idx in range(0, len(seq), size))\n",
    "\n",
    "def get_coef(x1:float, x2:float, y1:float, y2:float) -> tuple:\n",
    "    # get slope intercept coefs\n",
    "    slope, intercept, r_value, p_value, std_err = linregress([x1, x2], [y1, y2])\n",
    "    \n",
    "    return slope, intercept\n",
    "\n",
    "def get_line(x1:float, x2:float, slope:float, intercept:float) -> np.array:\n",
    "    # iterated linear function\n",
    "    line = list()\n",
    "    for x in range(x1, x2+1):\n",
    "        line.append((x, slope * x + intercept))\n",
    "        \n",
    "    return np.array(line)\n",
    "\n",
    "def yfinance_used():\n",
    "    %pip install yfinance\n",
    "    %pip install --upgrade numpy==1.21.2\n",
    "    %pip install --upgrade pandas==1.3.3\n",
    "    clear_output()\n",
    "    \n",
    "    print('yfinance installed')\n",
    "\n",
    "logging.basicConfig(\n",
    "    format='%(asctime)s,%(msecs)d %(name)s %(levelname)s: %(message)s',\n",
    "    datefmt='%H:%M:%S',\n",
    "    level=logging.INFO,\n",
    "    handlers=[\n",
    "        logging.FileHandler(\"logs.log\"),\n",
    "        logging.StreamHandler()\n",
    "    ]\n",
    ")\n",
    "logger = logging.getLogger()"
   ]
  },
  {
   "cell_type": "code",
   "execution_count": 714,
   "metadata": {
    "cellId": "n48dz6147tohy5sgnpp7a"
   },
   "outputs": [],
   "source": [
    "def test_df_shape(pre_shape: tuple, cols_added: int, post_shape: tuple) -> None:\n",
    "    try:\n",
    "        assert pre_shape[0] == post_shape[0]\n",
    "    except AssertionError as e:\n",
    "        logger.exception(\"inconsistent rows value\")\n",
    "        raise e\n",
    "    try:\n",
    "        assert post_shape[1] == pre_shape[1] + cols_added\n",
    "    except AssertionError as e:\n",
    "        logger.exception(\"inconsistent columns value\")\n",
    "        raise e\n",
    "\n",
    "    logger.info(\"test shape PASSED\")\n",
    "\n",
    "    return None"
   ]
  },
  {
   "cell_type": "markdown",
   "metadata": {
    "cellId": "yv5yex7mt1cvrm8b4t8axq"
   },
   "source": [
    "# GET DATA"
   ]
  },
  {
   "cell_type": "markdown",
   "metadata": {
    "cellId": "cebqo2j3i4i0b9xtuyjwvi"
   },
   "source": [
    "## The data for the model include the 2 streams:\n",
    "\n",
    "i) the numeric data, in particular: \n",
    " \n",
    " a) prices and volume for the *target* stock \\\n",
    " b) prices and volume for the *relative* stocks and numeric values for *financial indicators*\n",
    " \n",
    "ii) the text data, i.e. news, reports, social media posts \\\n",
    "Below are the scripts to describe the collection of this data.\n",
    "\n",
    "The financial objects that will be basis for the model fit is based on several stocks, financial market indices, raw market indices and currencies."
   ]
  },
  {
   "cell_type": "markdown",
   "metadata": {
    "cellId": "zijstmnkia9zogmc43q9de"
   },
   "source": [
    "## i) NUMERIC FEATURES"
   ]
  },
  {
   "cell_type": "markdown",
   "metadata": {
    "cellId": "u1tjw73jnor4suqo8rcfg9"
   },
   "source": [
    "The model is designed for the timeframes of 1 hour. As the target ticker [Gazprom stock](https://www.gazprom.com/) traded at the Moscow Exchange. The stock is in the top 10 by the trade volume and well covered in the mass media.\\\n",
    "The data provider for the price data is [yahoo finance API package](https://pypi.org/project/yfinance/)."
   ]
  },
  {
   "cell_type": "code",
   "execution_count": 1310,
   "metadata": {
    "cellId": "6s9a1hssnn536jv8vk48i9"
   },
   "outputs": [],
   "source": [
    "tickers = {\n",
    "    'stocks' : ['GAZP.ME', 'SNGSP.ME' , 'ROSN.ME', 'NVTK.ME'], # stocks\n",
    "    'market_indices' : ['MOEX.ME', '^DJI', '^IXIC', '000001.SS', '^BSESN'], # markets indices\n",
    "    'raw_market' : ['BZ=F', 'GC=F', 'XW=F'], # raw markets\n",
    "    'currency' : ['EURUSD=X', 'CNY=X', 'RUB=X'] # currancies\n",
    "}\n",
    "\n",
    "# the collection of ticker's instances\n",
    "my_objects = defaultdict(dict)"
   ]
  },
  {
   "cell_type": "code",
   "execution_count": 1325,
   "metadata": {
    "cellId": "9tekp6smn4gyzkp8ehr9ic"
   },
   "outputs": [],
   "source": [
    "# the constants within a run\n",
    "DATA_PATH = \"data/\"\n",
    "start_date = \"2020-08-15\"\n",
    "end_data = \"2022-07-02\"\n",
    "series_name = \"Close\""
   ]
  },
  {
   "cell_type": "markdown",
   "metadata": {
    "cellId": "0xk6373hx6gj6scjygty4lo"
   },
   "source": [
    "For the purpose of integrity the model input of a ticker will be processed within an instance of the class Ticker and then appended to the aggregating dictionary.\\\n",
    "Every data transformation within the class is described based one the model's target stock and Close price:"
   ]
  },
  {
   "cell_type": "code",
   "execution_count": 1358,
   "metadata": {
    "cellId": "dlel64eg7dux1s4q7fm808"
   },
   "outputs": [],
   "source": [
    "class Ticker:\n",
    "    def __init__(self, ticker_name:str, series_name:str):\n",
    "        self.ticker_name = ticker_name\n",
    "        self.data = pd.DataFrame(dtype=object, columns=['Open','High','Low','Close','Adj Close','Volume'])\n",
    "        self.series_name = series_name\n",
    "        \n",
    "    def collect_yf(self, start:str, end:str, interval:str, DATA_PATH:str=DATA_PATH) -> pd.DataFrame: \n",
    "        '''download and save locally the data from yahoo finance'''    \n",
    "        yfinance_used()\n",
    "        import yfinance as yf\n",
    "        self.data = pd.concat([\n",
    "            self.data, \n",
    "            yf.download(tickers=self.ticker_name, start=start, end=end, interval=interval)\n",
    "        ]).rename_axis('Datetime').reset_index(drop=False)       \n",
    "        self.data.to_parquet(\n",
    "            DATA_PATH + f\"{self.ticker_name}_{start_date}_{end_date}.parquet.gzip\", \n",
    "            index=False, compression=\"gzip\"\n",
    "        )\n",
    "             \n",
    "        return self.data\n",
    "    \n",
    "    def collect_local(self, start:str, end:str, DATA_PATH:str=DATA_PATH):\n",
    "        '''download the data from the local directory'''\n",
    "        self.data = pd.read_parquet(DATA_PATH + f'{self.ticker_name}_{start_date}_{end_date}.parquet.gzip')\n",
    "        \n",
    "        return self.data\n",
    "\n",
    "    def adjust_datetime(self):\n",
    "        '''adjusting the datetime index'''\n",
    "        \n",
    "        self.data.Datetime = self.data.Datetime.map(lambda v: datetime.strftime(v, '%Y-%m-%d %H:%M:%S'))\n",
    "        if sum([self.data.Datetime.apply(lambda v: v.minute).iloc[idx] == 0 for idx in range(2)]) == 2:\n",
    "            self.data.Datetime += timedelta(minutes=30)\n",
    "        elif sum([self.data.Datetime.apply(lambda v: v.minute).iloc[idx] == 15 for idx in range(2)]) == 2:\n",
    "            self.data.Datetime += timedelta(minutes=15)\n",
    "        elif sum([self.data.Datetime.apply(lambda v: v.minute).iloc[idx] == 30 for idx in range(2)]) == 2:\n",
    "            self.data.Datetime += timedelta(minutes=0)\n",
    "        else:\n",
    "            return 'inconsistent datetime index'\n",
    "        \n",
    "    def get_smooth_line(self, poly:int=3, series_name:str=series_name) -> pd.Series:\n",
    "        # smoothering the timeseries\n",
    "        period_diff = len(self.data[series_name]) // 30\n",
    "        period_diff = 1 if period_diff == 0 else period_diff\n",
    "        smooth = int(2 * period_diff + poly)\n",
    "        pts = savgol_filter(self.data[series_name], smooth, poly)\n",
    "        # smoothing time series\n",
    "        sm_pts = np.array([])\n",
    "        for chunk in chunker(self.data[series_name], 90):\n",
    "            sm_pts = np.append(sm_pts, smooth_line(chunk, 3))\n",
    "        try:\n",
    "            assert len(self.data[series_name]) - len(sm_pts) == 0\n",
    "        except AssertionError as e:\n",
    "            utilities.logger.exception(\"smoothed series inconsistent\")\n",
    "            raise e\n",
    "\n",
    "        return pd.Series(sm_pts, index=self.data.index, name='smoothed series')\n",
    "    \n",
    "    def get_extrema(self, sm_pts:np.ndarray=None) -> tuple:\n",
    "        if not sm_pts:\n",
    "            sm_pts = self.get_smooth_line()\n",
    "        # get local extrema\n",
    "        local_min_idx = argrelextrema(sm_pts.values, np.less)\n",
    "        local_max_idx = argrelextrema(sm_pts.values, np.greater)\n",
    "        # # drop the 2nd extrema if closer than 2 days\n",
    "        local_min_idx = np.delete(\n",
    "            local_min_idx[0], \n",
    "            np.argwhere(np.diff(local_min_idx[0]) <= 2) + 1\n",
    "        )\n",
    "        local_max_idx = np.delete(\n",
    "            local_max_idx[0], \n",
    "            np.argwhere(np.diff(local_max_idx[0]) <= 2) + 1\n",
    "        )\n",
    "\n",
    "        return (local_min_idx, local_max_idx)\n",
    "    \n",
    "    def get_support(self, local_min_idx:np.ndarray=None) -> pd.Series:\n",
    "        if not local_min_idx:\n",
    "            local_min_idx, _ = self.get_extrema()\n",
    "        sm_pts = self.get_smooth_line()\n",
    "        support_line = list()\n",
    "        for i in range(len(local_min_idx)-1):\n",
    "            support_line.append(get_line(\n",
    "                local_min_idx[i], local_min_idx[i+1], \n",
    "                *get_coef(local_min_idx[i], local_min_idx[i+1], sm_pts[local_min_idx[i]], sm_pts[local_min_idx[i+1]])\n",
    "            )[:-1])\n",
    "        support_line = np.array([x for sl in support_line for x in sl])\n",
    "        # extrapolation due to the absence of extrema for the last day\n",
    "        support_line = np.concatenate((\n",
    "            support_line,\n",
    "            get_line(\n",
    "                local_min_idx[-1], sm_pts.index[-1], \n",
    "                *get_coef(local_min_idx[-1], sm_pts.index[-1], sm_pts[local_min_idx[-1]], sm_pts.values[-1])\n",
    "                )\n",
    "        ))       \n",
    "        # empty start fill up\n",
    "        support_line = np.concatenate((\n",
    "            np.array(list(zip(\n",
    "                np.array(range(int(support_line[0][0]))),\n",
    "                np.zeros(int(support_line[0][0]), dtype=int)\n",
    "            ))),\n",
    "            support_line))   \n",
    "                \n",
    "        return pd.Series(support_line[:,1], index=support_line[:,0].astype(int), name='support')\n",
    "\n",
    "    def get_resistance(self, local_max_idx:np.ndarray=None) -> pd.Series:\n",
    "        if not local_max_idx:\n",
    "            _, local_max_idx = self.get_extrema()\n",
    "        sm_pts = self.get_smooth_line()\n",
    "        resistance_line = list()\n",
    "        for i in range(len(local_max_idx)-1):\n",
    "            resistance_line.append(get_line(\n",
    "                local_max_idx[i], local_max_idx[i+1], \n",
    "                *get_coef(local_max_idx[i], local_max_idx[i+1], sm_pts[local_max_idx[i]], sm_pts[local_max_idx[i+1]])\n",
    "            ))\n",
    "        # extrapolation due to the absence of extrema for the last day\n",
    "        resistance_line.append(get_line(\n",
    "            local_max_idx[-1], sm_pts.index[-1], \n",
    "            *get_coef(local_max_idx[-1], sm_pts.index[-1], sm_pts[local_max_idx[-1]], sm_pts.values[-1])\n",
    "        ))\n",
    "        resistance_line = np.array([x for sl in resistance_line for x in sl])\n",
    "        # empty start fill up\n",
    "        resistance_line = np.concatenate((\n",
    "            np.array(list(zip(\n",
    "                np.array(range(int(resistance_line[0][0]))),\n",
    "                np.zeros(int(resistance_line[0][0]), dtype=int)\n",
    "            ))),\n",
    "            resistance_line))   \n",
    "                \n",
    "        return pd.Series(resistance_line[:,1], index=resistance_line[:,0].astype(int), name='resistance')\n",
    "    \n",
    "    def add_resistance_support(self) -> pd.DataFrame:\n",
    "        sh = self.data.shape\n",
    "        self.data = pd.concat([\n",
    "            self.data, \n",
    "            self.get_support(),\n",
    "            self.get_resistance()\n",
    "        ],axis=1) \n",
    "        test_df_shape(sh, 2, self.data.shape)\n",
    "        logger.info(f\"resistance and support lines for {self.ticker_name} {series_name} added\")\n",
    "        \n",
    "        return self.data\n",
    "    \n",
    "    def get_moving_average(self, n_period:int, series_name:str=series_name) -> pd.DataFrame:\n",
    "        sh = self.data.shape\n",
    "        for i in range(n_period, len(self.data)):\n",
    "            self.data.loc[self.data.index == self.data.iloc[i-n_period:i].index[-1], f'moving_average_{series_name}_{n_period}'] =\\\n",
    "                self.data.iloc[i-n_period:i+n_period][series_name].mean()\n",
    "        test_df_shape(sh, 1, self.data.shape)\n",
    "        logger.info(f\"moving average of {n_period} for {self.ticker_name} {series_name} added\")\n",
    "              \n",
    "        return self.data\n",
    "    \n",
    "    def get_stochastic_oscillator(self, n_period:int, series_name:str=series_name) -> pd.DataFrame:\n",
    "        sh = self.data.shape\n",
    "        self.data[f\"oscillator_{series_name}\"] = 0\n",
    "        for i in range(n_period ,len(self.data)):\n",
    "            c = self.data.iloc[i-period:i+period][series_name].values[-1]\n",
    "            h = self.data.iloc[i-period:i+period][price].max()\n",
    "            l = self.data.iloc[i-period:i+period][price].min()\n",
    "            self.sata.loc[slef.data.index == self.data.iloc[i-period:i].index[-1], f\"oscillator_{series_name}\"] = (c-l) / (h-l)\n",
    "        test_df_shape(sh, 1, self.data.shape)\n",
    "        \n",
    "        logger.info(f\"stochastic oscillator for {self.ticker_name} {series_name} added\")"
   ]
  },
  {
   "cell_type": "code",
   "execution_count": 1339,
   "metadata": {
    "cellId": "40x171liducwzx2udfe3vb"
   },
   "outputs": [
    {
     "data": {
      "text/plain": [
       "'2020-08-17 09:30:00'"
      ]
     },
     "execution_count": 1339,
     "metadata": {},
     "output_type": "execute_result"
    }
   ],
   "source": [
    "datetime.strftime(data.Datetime[0], '%Y-%m-%d %H:%M:%S')"
   ]
  },
  {
   "cell_type": "code",
   "execution_count": 1360,
   "metadata": {
    "cellId": "vtdnk8pk2dy1i2byig7c"
   },
   "outputs": [],
   "source": [
    "data = my_objects[ticker_name].data\n",
    "data.Datetime = data.Datetime.map(lambda v: datetime.strptime(v, '%Y-%m-%d %H:%M:%S'))"
   ]
  },
  {
   "cell_type": "code",
   "execution_count": null,
   "metadata": {
    "cellId": "m9ksej7m45q7o873zqhqcw"
   },
   "outputs": [],
   "source": [
    "if sum([self.data.Datetime.apply(lambda v: v.minute).iloc[idx] == 0 for idx in range(2)]) == 2:\n",
    "    self.data.Datetime += timedelta(minutes=30)"
   ]
  },
  {
   "cell_type": "code",
   "execution_count": null,
   "metadata": {
    "cellId": "7kuc8727pupnu6eoki0i6p"
   },
   "outputs": [],
   "source": [
    "my_objects[ticker_name] = Ticker(ticker_name, series_name)\n",
    "my_objects[ticker_name].collect_local(start_date, end_date)\n",
    "my_objects[ticker_name].adjust_datetime()"
   ]
  },
  {
   "cell_type": "code",
   "execution_count": 1355,
   "metadata": {
    "cellId": "cdclz6s0w0abn96p4wyqva"
   },
   "outputs": [
    {
     "data": {
      "text/plain": [
       "0"
      ]
     },
     "execution_count": 1355,
     "metadata": {},
     "output_type": "execute_result"
    }
   ],
   "source": [
    "sum([data.Datetime.apply(lambda v: v.minute).iloc[0] == 0 for idx in range(2)]) "
   ]
  },
  {
   "cell_type": "code",
   "execution_count": null,
   "metadata": {
    "cellId": "wskf1mohiddtt87fsqflxa"
   },
   "outputs": [],
   "source": [
    "    def adjust_datetime(self):\n",
    "        '''adjusting the datetime index'''\n",
    "        \n",
    "        self.data.Datetime = self.data.Datetime.map(lambda v: datetime.strptime(v[:-6], '%Y-%m-%d %H:%M:%S'))\n",
    "        if sum([self.data.Datetime.apply(lambda v: v.minute).iloc[idx] == 0 for idx in range(2)]) == 2:\n",
    "            self.data.Datetime += timedelta(minutes=30)\n",
    "        elif sum([self.data.Datetime.apply(lambda v: v.minute).iloc[idx] == 15 for idx in range(2)]) == 2:\n",
    "            self.data.Datetime += timedelta(minutes=15)\n",
    "        elif sum([self.data.Datetime.apply(lambda v: v.minute).iloc[idx] == 30 for idx in range(2)]) == 2:\n",
    "            self.data.Datetime += timedelta(minutes=0)\n",
    "        else:\n",
    "            return 'inconsistent datetime index'"
   ]
  },
  {
   "cell_type": "markdown",
   "metadata": {
    "cellId": "fas8u5ltymjz4u42lvd35l"
   },
   "source": [
    "## PROCESS NUMERIC FEATURES"
   ]
  },
  {
   "cell_type": "markdown",
   "metadata": {
    "cellId": "zjcog6a60bs2gq1vjjymqm"
   },
   "source": [
    "(1) Initiate an instance:"
   ]
  },
  {
   "cell_type": "code",
   "execution_count": 1327,
   "metadata": {
    "cellId": "gtdnnurf1ernjaps5z77lp"
   },
   "outputs": [
    {
     "name": "stdout",
     "output_type": "stream",
     "text": [
      "the ticker name : GAZP.ME\n",
      "the data within : Empty DataFrame\n",
      "Columns: [Open, High, Low, Close, Adj Close, Volume]\n",
      "Index: []\n"
     ]
    }
   ],
   "source": [
    "ticker_name = tickers['stocks'][0]\n",
    "my_objects[ticker_name] = Ticker(ticker_name, series_name)\n",
    "\n",
    "print(f'the ticker name : {my_objects[ticker_name].ticker_name}')\n",
    "print(f'the data within : {my_objects[ticker_name].data}')"
   ]
  },
  {
   "cell_type": "markdown",
   "metadata": {
    "cellId": "2uibqscfvbe6ge5jbt5dp6"
   },
   "source": [
    "(2.a) Get the data from y_finance with the method <ins>*collect_yf*</ins> :"
   ]
  },
  {
   "cell_type": "code",
   "execution_count": 1328,
   "metadata": {
    "cellId": "ru1k35l97fjo9g6yxv0por"
   },
   "outputs": [
    {
     "name": "stdout",
     "output_type": "stream",
     "text": [
      "yfinance installed\n",
      "[*********************100%***********************]  1 of 1 completed\n",
      "\n",
      "the data within :\n",
      "                   Datetime        Open        High         Low       Close  \\\n",
      "0 2020-08-17 09:30:00+03:00  193.830002  194.399994  192.639999  194.309998   \n",
      "1 2020-08-17 10:30:00+03:00  194.289993  194.679993  193.399994  194.039993   \n",
      "\n",
      "    Adj Close    Volume  \n",
      "0  194.309998  14158600  \n",
      "1  194.039993   9422020  \n"
     ]
    }
   ],
   "source": [
    "my_objects[ticker_name] = Ticker(ticker_name, series_name)\n",
    "my_objects[ticker_name].collect_yf(start_date, end_date, '60m')\n",
    "\n",
    "print(f'\\nthe data within :\\n{my_objects[ticker_name].data.head(2)}')"
   ]
  },
  {
   "cell_type": "markdown",
   "metadata": {
    "cellId": "4ymc1bebvne2b3ftq9pr2f"
   },
   "source": [
    "(2.b) In case the saved data is uploaded from the local db the method <ins>*collect_local*</ins> is called:"
   ]
  },
  {
   "cell_type": "code",
   "execution_count": 1332,
   "metadata": {
    "cellId": "g4qcykbadkhkor0rs2d2m9"
   },
   "outputs": [
    {
     "name": "stdout",
     "output_type": "stream",
     "text": [
      "\n",
      "the data within :\n",
      "                   Datetime        Open        High         Low       Close  \\\n",
      "0 2020-08-17 09:30:00+03:00  193.830002  194.399994  192.639999  194.309998   \n",
      "1 2020-08-17 10:30:00+03:00  194.289993  194.679993  193.399994  194.039993   \n",
      "\n",
      "    Adj Close    Volume  \n",
      "0  194.309998  14158600  \n",
      "1  194.039993   9422020  \n"
     ]
    }
   ],
   "source": [
    "my_objects[ticker_name] = Ticker(ticker_name, series_name)\n",
    "my_objects[ticker_name].collect_local(start_date, end_date)\n",
    "\n",
    "print(f'\\nthe data within :\\n{my_objects[ticker_name].data.head(2)}')"
   ]
  },
  {
   "cell_type": "markdown",
   "metadata": {
    "cellId": "85kheg9ld062eo5qa3bow5"
   },
   "source": [
    "To make the data processing more convinient the date and time ticks set as index and converted from string to datetime format. The starting points of the time series might differ (e.g. 9:00 vs 9:15 vs 9:30 in target series). To adjust that all the series different from the target they are moved forward. Considering the model's timeframe is a day this alteration is unlikely to cause significant deflection"
   ]
  },
  {
   "cell_type": "code",
   "execution_count": null,
   "metadata": {
    "cellId": "mam69oceafd3qngdrsctz9"
   },
   "outputs": [],
   "source": []
  },
  {
   "cell_type": "code",
   "execution_count": 1359,
   "metadata": {
    "cellId": "41aqfnt86ck1qa6yqvuiwm"
   },
   "outputs": [
    {
     "ename": "AttributeError",
     "evalue": "'str' object has no attribute 'minute'",
     "output_type": "error",
     "traceback": [
      "\u001b[0;31m---------------------------------------------------------------------------\u001b[0m",
      "\u001b[0;31mAttributeError\u001b[0m                            Traceback (most recent call last)",
      "\u001b[0;32m<ipython-input-48-a72bf5cfd1dd>\u001b[0m in \u001b[0;36m<module>\u001b[0;34m\u001b[0m\n\u001b[1;32m      1\u001b[0m \u001b[0mmy_objects\u001b[0m\u001b[0;34m[\u001b[0m\u001b[0mticker_name\u001b[0m\u001b[0;34m]\u001b[0m \u001b[0;34m=\u001b[0m \u001b[0mTicker\u001b[0m\u001b[0;34m(\u001b[0m\u001b[0mticker_name\u001b[0m\u001b[0;34m,\u001b[0m \u001b[0mseries_name\u001b[0m\u001b[0;34m)\u001b[0m\u001b[0;34m\u001b[0m\u001b[0;34m\u001b[0m\u001b[0m\n\u001b[1;32m      2\u001b[0m \u001b[0mmy_objects\u001b[0m\u001b[0;34m[\u001b[0m\u001b[0mticker_name\u001b[0m\u001b[0;34m]\u001b[0m\u001b[0;34m.\u001b[0m\u001b[0mcollect_local\u001b[0m\u001b[0;34m(\u001b[0m\u001b[0mstart_date\u001b[0m\u001b[0;34m,\u001b[0m \u001b[0mend_date\u001b[0m\u001b[0;34m)\u001b[0m\u001b[0;34m\u001b[0m\u001b[0;34m\u001b[0m\u001b[0m\n\u001b[0;32m----> 3\u001b[0;31m \u001b[0mmy_objects\u001b[0m\u001b[0;34m[\u001b[0m\u001b[0mticker_name\u001b[0m\u001b[0;34m]\u001b[0m\u001b[0;34m.\u001b[0m\u001b[0madjust_datetime\u001b[0m\u001b[0;34m(\u001b[0m\u001b[0;34m)\u001b[0m\u001b[0;34m\u001b[0m\u001b[0;34m\u001b[0m\u001b[0m\n\u001b[0m\u001b[1;32m      4\u001b[0m \u001b[0;31m#\u001b[0m\u001b[0;34m\u001b[0m\u001b[0;34m\u001b[0m\u001b[0;34m\u001b[0m\u001b[0m\n",
      "\u001b[0;32m<ipython-input-47-1536c717821a>\u001b[0m in \u001b[0;36madjust_datetime\u001b[0;34m(self)\u001b[0m\n\u001b[1;32m     30\u001b[0m \u001b[0;34m\u001b[0m\u001b[0m\n\u001b[1;32m     31\u001b[0m         \u001b[0mself\u001b[0m\u001b[0;34m.\u001b[0m\u001b[0mdata\u001b[0m\u001b[0;34m.\u001b[0m\u001b[0mDatetime\u001b[0m \u001b[0;34m=\u001b[0m \u001b[0mself\u001b[0m\u001b[0;34m.\u001b[0m\u001b[0mdata\u001b[0m\u001b[0;34m.\u001b[0m\u001b[0mDatetime\u001b[0m\u001b[0;34m.\u001b[0m\u001b[0mmap\u001b[0m\u001b[0;34m(\u001b[0m\u001b[0;32mlambda\u001b[0m \u001b[0mv\u001b[0m\u001b[0;34m:\u001b[0m \u001b[0mdatetime\u001b[0m\u001b[0;34m.\u001b[0m\u001b[0mstrftime\u001b[0m\u001b[0;34m(\u001b[0m\u001b[0mv\u001b[0m\u001b[0;34m,\u001b[0m \u001b[0;34m'%Y-%m-%d %H:%M:%S'\u001b[0m\u001b[0;34m)\u001b[0m\u001b[0;34m)\u001b[0m\u001b[0;34m\u001b[0m\u001b[0;34m\u001b[0m\u001b[0m\n\u001b[0;32m---> 32\u001b[0;31m         \u001b[0;32mif\u001b[0m \u001b[0msum\u001b[0m\u001b[0;34m(\u001b[0m\u001b[0;34m[\u001b[0m\u001b[0mself\u001b[0m\u001b[0;34m.\u001b[0m\u001b[0mdata\u001b[0m\u001b[0;34m.\u001b[0m\u001b[0mDatetime\u001b[0m\u001b[0;34m.\u001b[0m\u001b[0mapply\u001b[0m\u001b[0;34m(\u001b[0m\u001b[0;32mlambda\u001b[0m \u001b[0mv\u001b[0m\u001b[0;34m:\u001b[0m \u001b[0mv\u001b[0m\u001b[0;34m.\u001b[0m\u001b[0mminute\u001b[0m\u001b[0;34m)\u001b[0m\u001b[0;34m.\u001b[0m\u001b[0miloc\u001b[0m\u001b[0;34m[\u001b[0m\u001b[0midx\u001b[0m\u001b[0;34m]\u001b[0m \u001b[0;34m==\u001b[0m \u001b[0;36m0\u001b[0m \u001b[0;32mfor\u001b[0m \u001b[0midx\u001b[0m \u001b[0;32min\u001b[0m \u001b[0mrange\u001b[0m\u001b[0;34m(\u001b[0m\u001b[0;36m2\u001b[0m\u001b[0;34m)\u001b[0m\u001b[0;34m]\u001b[0m\u001b[0;34m)\u001b[0m \u001b[0;34m==\u001b[0m \u001b[0;36m2\u001b[0m\u001b[0;34m:\u001b[0m\u001b[0;34m\u001b[0m\u001b[0;34m\u001b[0m\u001b[0m\n\u001b[0m\u001b[1;32m     33\u001b[0m             \u001b[0mself\u001b[0m\u001b[0;34m.\u001b[0m\u001b[0mdata\u001b[0m\u001b[0;34m.\u001b[0m\u001b[0mDatetime\u001b[0m \u001b[0;34m+=\u001b[0m \u001b[0mtimedelta\u001b[0m\u001b[0;34m(\u001b[0m\u001b[0mminutes\u001b[0m\u001b[0;34m=\u001b[0m\u001b[0;36m30\u001b[0m\u001b[0;34m)\u001b[0m\u001b[0;34m\u001b[0m\u001b[0;34m\u001b[0m\u001b[0m\n\u001b[1;32m     34\u001b[0m         \u001b[0;32melif\u001b[0m \u001b[0msum\u001b[0m\u001b[0;34m(\u001b[0m\u001b[0;34m[\u001b[0m\u001b[0mself\u001b[0m\u001b[0;34m.\u001b[0m\u001b[0mdata\u001b[0m\u001b[0;34m.\u001b[0m\u001b[0mDatetime\u001b[0m\u001b[0;34m.\u001b[0m\u001b[0mapply\u001b[0m\u001b[0;34m(\u001b[0m\u001b[0;32mlambda\u001b[0m \u001b[0mv\u001b[0m\u001b[0;34m:\u001b[0m \u001b[0mv\u001b[0m\u001b[0;34m.\u001b[0m\u001b[0mminute\u001b[0m\u001b[0;34m)\u001b[0m\u001b[0;34m.\u001b[0m\u001b[0miloc\u001b[0m\u001b[0;34m[\u001b[0m\u001b[0midx\u001b[0m\u001b[0;34m]\u001b[0m \u001b[0;34m==\u001b[0m \u001b[0;36m15\u001b[0m \u001b[0;32mfor\u001b[0m \u001b[0midx\u001b[0m \u001b[0;32min\u001b[0m \u001b[0mrange\u001b[0m\u001b[0;34m(\u001b[0m\u001b[0;36m2\u001b[0m\u001b[0;34m)\u001b[0m\u001b[0;34m]\u001b[0m\u001b[0;34m)\u001b[0m \u001b[0;34m==\u001b[0m \u001b[0;36m2\u001b[0m\u001b[0;34m:\u001b[0m\u001b[0;34m\u001b[0m\u001b[0;34m\u001b[0m\u001b[0m\n",
      "\u001b[0;32m<ipython-input-47-1536c717821a>\u001b[0m in \u001b[0;36m<listcomp>\u001b[0;34m(.0)\u001b[0m\n\u001b[1;32m     30\u001b[0m \u001b[0;34m\u001b[0m\u001b[0m\n\u001b[1;32m     31\u001b[0m         \u001b[0mself\u001b[0m\u001b[0;34m.\u001b[0m\u001b[0mdata\u001b[0m\u001b[0;34m.\u001b[0m\u001b[0mDatetime\u001b[0m \u001b[0;34m=\u001b[0m \u001b[0mself\u001b[0m\u001b[0;34m.\u001b[0m\u001b[0mdata\u001b[0m\u001b[0;34m.\u001b[0m\u001b[0mDatetime\u001b[0m\u001b[0;34m.\u001b[0m\u001b[0mmap\u001b[0m\u001b[0;34m(\u001b[0m\u001b[0;32mlambda\u001b[0m \u001b[0mv\u001b[0m\u001b[0;34m:\u001b[0m \u001b[0mdatetime\u001b[0m\u001b[0;34m.\u001b[0m\u001b[0mstrftime\u001b[0m\u001b[0;34m(\u001b[0m\u001b[0mv\u001b[0m\u001b[0;34m,\u001b[0m \u001b[0;34m'%Y-%m-%d %H:%M:%S'\u001b[0m\u001b[0;34m)\u001b[0m\u001b[0;34m)\u001b[0m\u001b[0;34m\u001b[0m\u001b[0;34m\u001b[0m\u001b[0m\n\u001b[0;32m---> 32\u001b[0;31m         \u001b[0;32mif\u001b[0m \u001b[0msum\u001b[0m\u001b[0;34m(\u001b[0m\u001b[0;34m[\u001b[0m\u001b[0mself\u001b[0m\u001b[0;34m.\u001b[0m\u001b[0mdata\u001b[0m\u001b[0;34m.\u001b[0m\u001b[0mDatetime\u001b[0m\u001b[0;34m.\u001b[0m\u001b[0mapply\u001b[0m\u001b[0;34m(\u001b[0m\u001b[0;32mlambda\u001b[0m \u001b[0mv\u001b[0m\u001b[0;34m:\u001b[0m \u001b[0mv\u001b[0m\u001b[0;34m.\u001b[0m\u001b[0mminute\u001b[0m\u001b[0;34m)\u001b[0m\u001b[0;34m.\u001b[0m\u001b[0miloc\u001b[0m\u001b[0;34m[\u001b[0m\u001b[0midx\u001b[0m\u001b[0;34m]\u001b[0m \u001b[0;34m==\u001b[0m \u001b[0;36m0\u001b[0m \u001b[0;32mfor\u001b[0m \u001b[0midx\u001b[0m \u001b[0;32min\u001b[0m \u001b[0mrange\u001b[0m\u001b[0;34m(\u001b[0m\u001b[0;36m2\u001b[0m\u001b[0;34m)\u001b[0m\u001b[0;34m]\u001b[0m\u001b[0;34m)\u001b[0m \u001b[0;34m==\u001b[0m \u001b[0;36m2\u001b[0m\u001b[0;34m:\u001b[0m\u001b[0;34m\u001b[0m\u001b[0;34m\u001b[0m\u001b[0m\n\u001b[0m\u001b[1;32m     33\u001b[0m             \u001b[0mself\u001b[0m\u001b[0;34m.\u001b[0m\u001b[0mdata\u001b[0m\u001b[0;34m.\u001b[0m\u001b[0mDatetime\u001b[0m \u001b[0;34m+=\u001b[0m \u001b[0mtimedelta\u001b[0m\u001b[0;34m(\u001b[0m\u001b[0mminutes\u001b[0m\u001b[0;34m=\u001b[0m\u001b[0;36m30\u001b[0m\u001b[0;34m)\u001b[0m\u001b[0;34m\u001b[0m\u001b[0;34m\u001b[0m\u001b[0m\n\u001b[1;32m     34\u001b[0m         \u001b[0;32melif\u001b[0m \u001b[0msum\u001b[0m\u001b[0;34m(\u001b[0m\u001b[0;34m[\u001b[0m\u001b[0mself\u001b[0m\u001b[0;34m.\u001b[0m\u001b[0mdata\u001b[0m\u001b[0;34m.\u001b[0m\u001b[0mDatetime\u001b[0m\u001b[0;34m.\u001b[0m\u001b[0mapply\u001b[0m\u001b[0;34m(\u001b[0m\u001b[0;32mlambda\u001b[0m \u001b[0mv\u001b[0m\u001b[0;34m:\u001b[0m \u001b[0mv\u001b[0m\u001b[0;34m.\u001b[0m\u001b[0mminute\u001b[0m\u001b[0;34m)\u001b[0m\u001b[0;34m.\u001b[0m\u001b[0miloc\u001b[0m\u001b[0;34m[\u001b[0m\u001b[0midx\u001b[0m\u001b[0;34m]\u001b[0m \u001b[0;34m==\u001b[0m \u001b[0;36m15\u001b[0m \u001b[0;32mfor\u001b[0m \u001b[0midx\u001b[0m \u001b[0;32min\u001b[0m \u001b[0mrange\u001b[0m\u001b[0;34m(\u001b[0m\u001b[0;36m2\u001b[0m\u001b[0;34m)\u001b[0m\u001b[0;34m]\u001b[0m\u001b[0;34m)\u001b[0m \u001b[0;34m==\u001b[0m \u001b[0;36m2\u001b[0m\u001b[0;34m:\u001b[0m\u001b[0;34m\u001b[0m\u001b[0;34m\u001b[0m\u001b[0m\n",
      "\u001b[0;32m~/.local/lib/python3.8/site-packages/pandas/core/series.py\u001b[0m in \u001b[0;36mapply\u001b[0;34m(self, func, convert_dtype, args, **kwargs)\u001b[0m\n\u001b[1;32m   4355\u001b[0m         \u001b[0mdtype\u001b[0m\u001b[0;34m:\u001b[0m \u001b[0mfloat64\u001b[0m\u001b[0;34m\u001b[0m\u001b[0;34m\u001b[0m\u001b[0m\n\u001b[1;32m   4356\u001b[0m         \"\"\"\n\u001b[0;32m-> 4357\u001b[0;31m         \u001b[0;32mreturn\u001b[0m \u001b[0mSeriesApply\u001b[0m\u001b[0;34m(\u001b[0m\u001b[0mself\u001b[0m\u001b[0;34m,\u001b[0m \u001b[0mfunc\u001b[0m\u001b[0;34m,\u001b[0m \u001b[0mconvert_dtype\u001b[0m\u001b[0;34m,\u001b[0m \u001b[0margs\u001b[0m\u001b[0;34m,\u001b[0m \u001b[0mkwargs\u001b[0m\u001b[0;34m)\u001b[0m\u001b[0;34m.\u001b[0m\u001b[0mapply\u001b[0m\u001b[0;34m(\u001b[0m\u001b[0;34m)\u001b[0m\u001b[0;34m\u001b[0m\u001b[0;34m\u001b[0m\u001b[0m\n\u001b[0m\u001b[1;32m   4358\u001b[0m \u001b[0;34m\u001b[0m\u001b[0m\n\u001b[1;32m   4359\u001b[0m     def _reduce(\n",
      "\u001b[0;32m~/.local/lib/python3.8/site-packages/pandas/core/apply.py\u001b[0m in \u001b[0;36mapply\u001b[0;34m(self)\u001b[0m\n\u001b[1;32m   1041\u001b[0m             \u001b[0;32mreturn\u001b[0m \u001b[0mself\u001b[0m\u001b[0;34m.\u001b[0m\u001b[0mapply_str\u001b[0m\u001b[0;34m(\u001b[0m\u001b[0;34m)\u001b[0m\u001b[0;34m\u001b[0m\u001b[0;34m\u001b[0m\u001b[0m\n\u001b[1;32m   1042\u001b[0m \u001b[0;34m\u001b[0m\u001b[0m\n\u001b[0;32m-> 1043\u001b[0;31m         \u001b[0;32mreturn\u001b[0m \u001b[0mself\u001b[0m\u001b[0;34m.\u001b[0m\u001b[0mapply_standard\u001b[0m\u001b[0;34m(\u001b[0m\u001b[0;34m)\u001b[0m\u001b[0;34m\u001b[0m\u001b[0;34m\u001b[0m\u001b[0m\n\u001b[0m\u001b[1;32m   1044\u001b[0m \u001b[0;34m\u001b[0m\u001b[0m\n\u001b[1;32m   1045\u001b[0m     \u001b[0;32mdef\u001b[0m \u001b[0magg\u001b[0m\u001b[0;34m(\u001b[0m\u001b[0mself\u001b[0m\u001b[0;34m)\u001b[0m\u001b[0;34m:\u001b[0m\u001b[0;34m\u001b[0m\u001b[0;34m\u001b[0m\u001b[0m\n",
      "\u001b[0;32m~/.local/lib/python3.8/site-packages/pandas/core/apply.py\u001b[0m in \u001b[0;36mapply_standard\u001b[0;34m(self)\u001b[0m\n\u001b[1;32m   1097\u001b[0m                 \u001b[0;31m# List[Union[Callable[..., Any], str]]]]]\"; expected\u001b[0m\u001b[0;34m\u001b[0m\u001b[0;34m\u001b[0m\u001b[0;34m\u001b[0m\u001b[0m\n\u001b[1;32m   1098\u001b[0m                 \u001b[0;31m# \"Callable[[Any], Any]\"\u001b[0m\u001b[0;34m\u001b[0m\u001b[0;34m\u001b[0m\u001b[0;34m\u001b[0m\u001b[0m\n\u001b[0;32m-> 1099\u001b[0;31m                 mapped = lib.map_infer(\n\u001b[0m\u001b[1;32m   1100\u001b[0m                     \u001b[0mvalues\u001b[0m\u001b[0;34m,\u001b[0m\u001b[0;34m\u001b[0m\u001b[0;34m\u001b[0m\u001b[0m\n\u001b[1;32m   1101\u001b[0m                     \u001b[0mf\u001b[0m\u001b[0;34m,\u001b[0m  \u001b[0;31m# type: ignore[arg-type]\u001b[0m\u001b[0;34m\u001b[0m\u001b[0;34m\u001b[0m\u001b[0m\n",
      "\u001b[0;32m~/.local/lib/python3.8/site-packages/pandas/_libs/lib.pyx\u001b[0m in \u001b[0;36mpandas._libs.lib.map_infer\u001b[0;34m()\u001b[0m\n",
      "\u001b[0;32m<ipython-input-47-1536c717821a>\u001b[0m in \u001b[0;36m<lambda>\u001b[0;34m(v)\u001b[0m\n\u001b[1;32m     30\u001b[0m \u001b[0;34m\u001b[0m\u001b[0m\n\u001b[1;32m     31\u001b[0m         \u001b[0mself\u001b[0m\u001b[0;34m.\u001b[0m\u001b[0mdata\u001b[0m\u001b[0;34m.\u001b[0m\u001b[0mDatetime\u001b[0m \u001b[0;34m=\u001b[0m \u001b[0mself\u001b[0m\u001b[0;34m.\u001b[0m\u001b[0mdata\u001b[0m\u001b[0;34m.\u001b[0m\u001b[0mDatetime\u001b[0m\u001b[0;34m.\u001b[0m\u001b[0mmap\u001b[0m\u001b[0;34m(\u001b[0m\u001b[0;32mlambda\u001b[0m \u001b[0mv\u001b[0m\u001b[0;34m:\u001b[0m \u001b[0mdatetime\u001b[0m\u001b[0;34m.\u001b[0m\u001b[0mstrftime\u001b[0m\u001b[0;34m(\u001b[0m\u001b[0mv\u001b[0m\u001b[0;34m,\u001b[0m \u001b[0;34m'%Y-%m-%d %H:%M:%S'\u001b[0m\u001b[0;34m)\u001b[0m\u001b[0;34m)\u001b[0m\u001b[0;34m\u001b[0m\u001b[0;34m\u001b[0m\u001b[0m\n\u001b[0;32m---> 32\u001b[0;31m         \u001b[0;32mif\u001b[0m \u001b[0msum\u001b[0m\u001b[0;34m(\u001b[0m\u001b[0;34m[\u001b[0m\u001b[0mself\u001b[0m\u001b[0;34m.\u001b[0m\u001b[0mdata\u001b[0m\u001b[0;34m.\u001b[0m\u001b[0mDatetime\u001b[0m\u001b[0;34m.\u001b[0m\u001b[0mapply\u001b[0m\u001b[0;34m(\u001b[0m\u001b[0;32mlambda\u001b[0m \u001b[0mv\u001b[0m\u001b[0;34m:\u001b[0m \u001b[0mv\u001b[0m\u001b[0;34m.\u001b[0m\u001b[0mminute\u001b[0m\u001b[0;34m)\u001b[0m\u001b[0;34m.\u001b[0m\u001b[0miloc\u001b[0m\u001b[0;34m[\u001b[0m\u001b[0midx\u001b[0m\u001b[0;34m]\u001b[0m \u001b[0;34m==\u001b[0m \u001b[0;36m0\u001b[0m \u001b[0;32mfor\u001b[0m \u001b[0midx\u001b[0m \u001b[0;32min\u001b[0m \u001b[0mrange\u001b[0m\u001b[0;34m(\u001b[0m\u001b[0;36m2\u001b[0m\u001b[0;34m)\u001b[0m\u001b[0;34m]\u001b[0m\u001b[0;34m)\u001b[0m \u001b[0;34m==\u001b[0m \u001b[0;36m2\u001b[0m\u001b[0;34m:\u001b[0m\u001b[0;34m\u001b[0m\u001b[0;34m\u001b[0m\u001b[0m\n\u001b[0m\u001b[1;32m     33\u001b[0m             \u001b[0mself\u001b[0m\u001b[0;34m.\u001b[0m\u001b[0mdata\u001b[0m\u001b[0;34m.\u001b[0m\u001b[0mDatetime\u001b[0m \u001b[0;34m+=\u001b[0m \u001b[0mtimedelta\u001b[0m\u001b[0;34m(\u001b[0m\u001b[0mminutes\u001b[0m\u001b[0;34m=\u001b[0m\u001b[0;36m30\u001b[0m\u001b[0;34m)\u001b[0m\u001b[0;34m\u001b[0m\u001b[0;34m\u001b[0m\u001b[0m\n\u001b[1;32m     34\u001b[0m         \u001b[0;32melif\u001b[0m \u001b[0msum\u001b[0m\u001b[0;34m(\u001b[0m\u001b[0;34m[\u001b[0m\u001b[0mself\u001b[0m\u001b[0;34m.\u001b[0m\u001b[0mdata\u001b[0m\u001b[0;34m.\u001b[0m\u001b[0mDatetime\u001b[0m\u001b[0;34m.\u001b[0m\u001b[0mapply\u001b[0m\u001b[0;34m(\u001b[0m\u001b[0;32mlambda\u001b[0m \u001b[0mv\u001b[0m\u001b[0;34m:\u001b[0m \u001b[0mv\u001b[0m\u001b[0;34m.\u001b[0m\u001b[0mminute\u001b[0m\u001b[0;34m)\u001b[0m\u001b[0;34m.\u001b[0m\u001b[0miloc\u001b[0m\u001b[0;34m[\u001b[0m\u001b[0midx\u001b[0m\u001b[0;34m]\u001b[0m \u001b[0;34m==\u001b[0m \u001b[0;36m15\u001b[0m \u001b[0;32mfor\u001b[0m \u001b[0midx\u001b[0m \u001b[0;32min\u001b[0m \u001b[0mrange\u001b[0m\u001b[0;34m(\u001b[0m\u001b[0;36m2\u001b[0m\u001b[0;34m)\u001b[0m\u001b[0;34m]\u001b[0m\u001b[0;34m)\u001b[0m \u001b[0;34m==\u001b[0m \u001b[0;36m2\u001b[0m\u001b[0;34m:\u001b[0m\u001b[0;34m\u001b[0m\u001b[0;34m\u001b[0m\u001b[0m\n",
      "\u001b[0;31mAttributeError\u001b[0m: 'str' object has no attribute 'minute'"
     ]
    }
   ],
   "source": [
    "my_objects[ticker_name] = Ticker(ticker_name, series_name)\n",
    "my_objects[ticker_name].collect_local(start_date, end_date)\n",
    "my_objects[ticker_name].adjust_datetime()"
   ]
  },
  {
   "cell_type": "markdown",
   "metadata": {
    "cellId": "3t4x11y3m7dia21z2dxdaa"
   },
   "source": [
    "The next step is to enrich the features based on the available timeseries. Thus the following technical indicators are added:\n",
    "\n",
    "(3.a) [resistance and support lines](https://www.investopedia.com/trading/support-and-resistance-basics/) : basically the resistance / support lines for the current period are the lines between the previous highest / lowest price and following further with the slope. The update on my side is that the period between the local extrema should be more than 2 \\\n",
    "(3.b) [moving average](https://www.investopedia.com/terms/m/movingaverage.asp) : simple means of the series for the predefined periods of 4 and 8 hours \\\n",
    "(3.c) [stochastic oscillator](https://www.investopedia.com/terms/s/stochasticoscillator.asp) : momentum indicator comparing a particular closing price of a security to a range of its prices over a certain period of time (8 hours)"
   ]
  },
  {
   "cell_type": "markdown",
   "metadata": {
    "cellId": "2ydsm6138pftpbqx59p0f"
   },
   "source": [
    "#### (3.a) resistance | support lines"
   ]
  },
  {
   "cell_type": "code",
   "execution_count": 1258,
   "metadata": {
    "cellId": "aqvlglrgusvhup3fsstnde"
   },
   "outputs": [
    {
     "data": {
      "image/png": "[encoded data removed]",
      "text/plain": [
       "<Figure size 936x504 with 1 Axes>"
      ]
     },
     "metadata": {
      "needs_background": "light"
     },
     "output_type": "display_data"
    }
   ],
   "source": [
    "my_objects[ticker_name] = Ticker(ticker_name)\n",
    "my_objects[ticker_name].collect_local(start_date, end_date)\n",
    "my_objects[ticker_name].adjust_datetime()\n",
    "\n",
    "# plotting example\n",
    "date_ticks = list(my_objects[ticker_name].data.Datetime.map(lambda v: datetime.strftime(v, '%m-%d')))\n",
    "n, period = 22, (n, n+90)\n",
    "plt.figure(figsize=(13, 7))\n",
    "plt.plot(my_objects[ticker_name].data.Close[period[0]:period[1]], label = 'factual price')\n",
    "plt.plot(range(period[0], period[1]),sm_pts[period[0]:period[1]], label = 'smoothed price')\n",
    "plt.xticks(range(period[0], period[1]), date_ticks[period[0]:period[1]], rotation=45, fontsize=7)\n",
    "plt.legend();"
   ]
  },
  {
   "cell_type": "markdown",
   "metadata": {
    "cellId": "bgn0edg155lx4klranxefh"
   },
   "source": [
    "The values of the local minimum | maximum prices can be either obtained by the derivatives calculation or applying the existing functions like [agrelextrema](https://docs.scipy.org/doc/scipy/reference/generated/scipy.signal.argrelextrema.html) from scipy. If the distance between neigbouring extrema is too low the resitance | support lines might be inefficient, thus the minimum distance is defined as more than 2 periods:"
   ]
  },
  {
   "cell_type": "code",
   "execution_count": 1259,
   "metadata": {
    "cellId": "g5qpdpsr7c9vq24bwqlnmm"
   },
   "outputs": [
    {
     "data": {
      "image/png": "[encoded data removed]",
      "text/plain": [
       "<Figure size 936x504 with 1 Axes>"
      ]
     },
     "metadata": {
      "needs_background": "light"
     },
     "output_type": "display_data"
    }
   ],
   "source": [
    "my_objects[ticker_name] = Ticker(ticker_name)\n",
    "my_objects[ticker_name].collect_local(start_date, end_date)\n",
    "my_objects[ticker_name].adjust_datetime()\n",
    "sm_pts = my_objects[ticker_name].get_smooth_line()\n",
    "local_min_idx, local_max_idx = my_objects[ticker_name].get_extrema()\n",
    "\n",
    "# plotting example\n",
    "date_ticks = list(my_objects[ticker_name].data.Datetime.map(lambda v: datetime.strftime(v, '%m-%d')))\n",
    "n, period = 22, (n, n+90)\n",
    "plt.figure(figsize=(13, 7))\n",
    "plt.plot(my_objects[ticker_name].data.Close[period[0]:period[1]], label = 'factual price')\n",
    "plt.plot(range(period[0], period[1]),sm_pts[period[0]:period[1]], label = 'smoothed price')\n",
    "plt.scatter(\n",
    "    local_min_idx[(local_min_idx >= period[0]) & (local_min_idx <= period[1])], \n",
    "    sm_pts[local_min_idx[(local_min_idx >= period[0]) & (local_min_idx <= period[1])]], \n",
    "    color='r', label='minima'\n",
    ")\n",
    "plt.scatter(\n",
    "    local_max_idx[(local_max_idx >= period[0]) & (local_max_idx <= period[1])], \n",
    "    sm_pts[local_max_idx[(local_max_idx >= period[0]) & (local_max_idx <= period[1])]], \n",
    "    color='g', label='minima'\n",
    ")\n",
    "plt.xticks(range(period[0], period[1]), date_ticks[period[0]:period[1]], rotation=45, fontsize=7)\n",
    "plt.legend();"
   ]
  },
  {
   "cell_type": "markdown",
   "metadata": {
    "cellId": "e98vh2ejzucsl8dwezwc5k"
   },
   "source": [
    "The final step is to get the lines between the neigbour local extrema^"
   ]
  },
  {
   "cell_type": "code",
   "execution_count": 1261,
   "metadata": {
    "cellId": "axfb8is6szdy6adg667cqa"
   },
   "outputs": [
    {
     "data": {
      "image/png": "[encoded data removed]",
      "text/plain": [
       "<Figure size 936x504 with 1 Axes>"
      ]
     },
     "metadata": {
      "needs_background": "light"
     },
     "output_type": "display_data"
    }
   ],
   "source": [
    "my_objects[ticker_name] = Ticker(ticker_name)\n",
    "my_objects[ticker_name].collect_local(start_date, end_date)\n",
    "my_objects[ticker_name].adjust_datetime()\n",
    "sm_pts = my_objects[ticker_name].get_smooth_line()\n",
    "local_min_idx, local_max_idx = my_objects[ticker_name].get_extrema()\n",
    "support_line = my_objects[ticker_name].get_support()\n",
    "resistance_line = my_objects[ticker_name].get_resistance()\n",
    "\n",
    "# plotting example\n",
    "date_ticks = list(my_objects[ticker_name].data.Datetime.map(lambda v: datetime.strftime(v, '%m-%d')))\n",
    "n, period = 3012-90, (n, n+90)\n",
    "plt.figure(figsize=(13, 7))\n",
    "plt.plot(my_objects[ticker_name].data.Close[period[0]:period[1]], label = 'factual price')\n",
    "plt.plot(range(period[0], period[1]),sm_pts[period[0]:period[1]], label = 'smoothed price')\n",
    "plt.scatter(\n",
    "    local_min_idx[(local_min_idx >= period[0]) & (local_min_idx <= period[1])], \n",
    "    sm_pts[local_min_idx[(local_min_idx >= period[0]) & (local_min_idx <= period[1])]], \n",
    "    color='r', label='minima'\n",
    ")\n",
    "plt.scatter(\n",
    "    local_max_idx[(local_max_idx >= period[0]) & (local_max_idx <= period[1])], \n",
    "    sm_pts[local_max_idx[(local_max_idx >= period[0]) & (local_max_idx <= period[1])]], \n",
    "    color='g', label='minima'\n",
    ")\n",
    "plt.plot(\n",
    "    support_line.loc[period[0]:period[1]].index,\n",
    "    support_line.loc[period[0]:period[1]].values,\n",
    "    color = 'darkred',\n",
    "    label = 'support line',\n",
    "    linestyle = '--'\n",
    ")\n",
    "plt.plot(\n",
    "    resistance_line.loc[period[0]:period[1]].index,\n",
    "    resistance_line.loc[period[0]:period[1]].values,\n",
    "    color = 'indigo',\n",
    "    label = 'resistance line',\n",
    "    linestyle = '--'\n",
    ")\n",
    "plt.xticks(range(period[0], period[1]), date_ticks[period[0]:period[1]], rotation=45, fontsize=7)\n",
    "plt.legend();"
   ]
  },
  {
   "cell_type": "markdown",
   "metadata": {
    "cellId": "jolo43rtmbqp07sif7gpl"
   },
   "source": [
    "The final sub-step is to add the lines as the features to the dataframe data:"
   ]
  },
  {
   "cell_type": "markdown",
   "metadata": {
    "cellId": "33kv3vo3fmlbdknkdgoa0w"
   },
   "source": [
    "#### (3b) moving average "
   ]
  },
  {
   "cell_type": "code",
   "execution_count": null,
   "metadata": {
    "cellId": "rn3rfsgy24a3rdnrbgxwlq"
   },
   "outputs": [],
   "source": [
    "n_period = 4 \n",
    "series_name = 'Close'\n",
    "\n",
    "series = \n",
    "\n",
    "for i in range(period, len(self.data)):\n",
    "    self.data.loc[self.data.index == self.data.iloc[i-n_period:i].index[-1], f'moving_average_{series_name}_{n_period}'] = self.data.iloc[i-n_period:i+n_period][series_name].mean()\n",
    "test_df_shape(sh, 1, df.shape)\n",
    "print(f\"moving average of {period} added\")\n",
    "              \n",
    "        return self.data"
   ]
  },
  {
   "cell_type": "code",
   "execution_count": 1306,
   "metadata": {
    "cellId": "8rwp6bsp64xxhj0rl48cq"
   },
   "outputs": [
    {
     "name": "stdout",
     "output_type": "stream",
     "text": [
      "moving average of 4 added\n",
      "moving average of 8 added\n"
     ]
    }
   ],
   "source": [
    "my_objects[ticker_name] = Ticker(ticker_name)\n",
    "my_objects[ticker_name].collect_local(start_date, end_date)\n",
    "my_objects[ticker_name].adjust_datetime()\n",
    "\n",
    "ma_4 = my_objects[ticker_name].get_moving_average(4, 'Close')\n",
    "ma_8 = my_objects[ticker_name].get_moving_average(8, 'Close')"
   ]
  },
  {
   "cell_type": "markdown",
   "metadata": {
    "cellId": "ri57ap70qlj9d4y0dp2v"
   },
   "source": [
    "The additional calculation will be the [stochastic oscillator](https://www.investopedia.com/terms/s/stochasticoscillator.asp) . The indicator compares the current price to the prices within the defined period in the past."
   ]
  },
  {
   "cell_type": "code",
   "execution_count": 497,
   "metadata": {
    "cellId": "nszgyjuy2o7vhggr6p2ni"
   },
   "outputs": [
    {
     "name": "stdout",
     "output_type": "stream",
     "text": [
      "moving average added, time 3.13\n"
     ]
    },
    {
     "data": {
      "text/html": [
       "<div>\n",
       "<style scoped>\n",
       "    .dataframe tbody tr th:only-of-type {\n",
       "        vertical-align: middle;\n",
       "    }\n",
       "\n",
       "    .dataframe tbody tr th {\n",
       "        vertical-align: top;\n",
       "    }\n",
       "\n",
       "    .dataframe thead th {\n",
       "        text-align: right;\n",
       "    }\n",
       "</style>\n",
       "<table border=\"1\" class=\"dataframe\">\n",
       "  <thead>\n",
       "    <tr style=\"text-align: right;\">\n",
       "      <th></th>\n",
       "      <th>Datetime</th>\n",
       "      <th>Open_GAZP.ME</th>\n",
       "      <th>High_GAZP.ME</th>\n",
       "      <th>Low_GAZP.ME</th>\n",
       "      <th>Close_GAZP.ME</th>\n",
       "      <th>Adj Close_GAZP.ME</th>\n",
       "      <th>Volume_GAZP.ME</th>\n",
       "      <th>Dividends</th>\n",
       "      <th>moving_average_4</th>\n",
       "      <th>moving_average_8</th>\n",
       "      <th>stoch_oscil</th>\n",
       "      <th>stoch_oscil_Close_GAZP.ME</th>\n",
       "    </tr>\n",
       "  </thead>\n",
       "  <tbody>\n",
       "    <tr>\n",
       "      <th>0</th>\n",
       "      <td>2020-04-27 09:30:00</td>\n",
       "      <td>186.529999</td>\n",
       "      <td>187.380005</td>\n",
       "      <td>186.289993</td>\n",
       "      <td>186.410004</td>\n",
       "      <td>186.410004</td>\n",
       "      <td>3277800</td>\n",
       "      <td>0.0</td>\n",
       "      <td>NaN</td>\n",
       "      <td>NaN</td>\n",
       "      <td>0</td>\n",
       "      <td>NaN</td>\n",
       "    </tr>\n",
       "    <tr>\n",
       "      <th>1</th>\n",
       "      <td>2020-04-27 10:30:00</td>\n",
       "      <td>186.419998</td>\n",
       "      <td>188.080002</td>\n",
       "      <td>186.190002</td>\n",
       "      <td>187.389999</td>\n",
       "      <td>187.389999</td>\n",
       "      <td>6242660</td>\n",
       "      <td>0.0</td>\n",
       "      <td>NaN</td>\n",
       "      <td>NaN</td>\n",
       "      <td>0</td>\n",
       "      <td>NaN</td>\n",
       "    </tr>\n",
       "    <tr>\n",
       "      <th>2</th>\n",
       "      <td>2020-04-27 11:30:00</td>\n",
       "      <td>187.410004</td>\n",
       "      <td>188.470001</td>\n",
       "      <td>187.410004</td>\n",
       "      <td>187.600006</td>\n",
       "      <td>187.600006</td>\n",
       "      <td>4135940</td>\n",
       "      <td>0.0</td>\n",
       "      <td>NaN</td>\n",
       "      <td>NaN</td>\n",
       "      <td>0</td>\n",
       "      <td>NaN</td>\n",
       "    </tr>\n",
       "    <tr>\n",
       "      <th>3</th>\n",
       "      <td>2020-04-27 12:30:00</td>\n",
       "      <td>187.619995</td>\n",
       "      <td>188.339996</td>\n",
       "      <td>187.070007</td>\n",
       "      <td>187.080002</td>\n",
       "      <td>187.080002</td>\n",
       "      <td>4553560</td>\n",
       "      <td>0.0</td>\n",
       "      <td>186.943750</td>\n",
       "      <td>NaN</td>\n",
       "      <td>0</td>\n",
       "      <td>NaN</td>\n",
       "    </tr>\n",
       "    <tr>\n",
       "      <th>4</th>\n",
       "      <td>2020-04-27 13:30:00</td>\n",
       "      <td>187.110001</td>\n",
       "      <td>187.440002</td>\n",
       "      <td>186.919998</td>\n",
       "      <td>187.339996</td>\n",
       "      <td>187.339996</td>\n",
       "      <td>2813540</td>\n",
       "      <td>0.0</td>\n",
       "      <td>187.023750</td>\n",
       "      <td>NaN</td>\n",
       "      <td>0</td>\n",
       "      <td>NaN</td>\n",
       "    </tr>\n",
       "    <tr>\n",
       "      <th>...</th>\n",
       "      <td>...</td>\n",
       "      <td>...</td>\n",
       "      <td>...</td>\n",
       "      <td>...</td>\n",
       "      <td>...</td>\n",
       "      <td>...</td>\n",
       "      <td>...</td>\n",
       "      <td>...</td>\n",
       "      <td>...</td>\n",
       "      <td>...</td>\n",
       "      <td>...</td>\n",
       "      <td>...</td>\n",
       "    </tr>\n",
       "    <tr>\n",
       "      <th>4635</th>\n",
       "      <td>2022-04-06 15:30:00</td>\n",
       "      <td>244.669998</td>\n",
       "      <td>246.490005</td>\n",
       "      <td>243.740005</td>\n",
       "      <td>245.460007</td>\n",
       "      <td>245.460007</td>\n",
       "      <td>1472640</td>\n",
       "      <td>0.0</td>\n",
       "      <td>243.043753</td>\n",
       "      <td>243.414168</td>\n",
       "      <td>0</td>\n",
       "      <td>0.160048</td>\n",
       "    </tr>\n",
       "    <tr>\n",
       "      <th>4636</th>\n",
       "      <td>2022-04-06 16:30:00</td>\n",
       "      <td>245.589996</td>\n",
       "      <td>245.589996</td>\n",
       "      <td>243.509995</td>\n",
       "      <td>244.710007</td>\n",
       "      <td>244.710007</td>\n",
       "      <td>917480</td>\n",
       "      <td>0.0</td>\n",
       "      <td>242.787146</td>\n",
       "      <td>243.406365</td>\n",
       "      <td>0</td>\n",
       "      <td>0.160048</td>\n",
       "    </tr>\n",
       "    <tr>\n",
       "      <th>4637</th>\n",
       "      <td>2022-04-06 17:30:00</td>\n",
       "      <td>244.710007</td>\n",
       "      <td>244.759995</td>\n",
       "      <td>239.210007</td>\n",
       "      <td>239.990005</td>\n",
       "      <td>239.990005</td>\n",
       "      <td>2715490</td>\n",
       "      <td>0.0</td>\n",
       "      <td>242.595004</td>\n",
       "      <td>243.566002</td>\n",
       "      <td>0</td>\n",
       "      <td>0.160048</td>\n",
       "    </tr>\n",
       "    <tr>\n",
       "      <th>4638</th>\n",
       "      <td>2022-04-06 18:30:00</td>\n",
       "      <td>239.990005</td>\n",
       "      <td>240.000000</td>\n",
       "      <td>239.699997</td>\n",
       "      <td>239.699997</td>\n",
       "      <td>239.699997</td>\n",
       "      <td>0</td>\n",
       "      <td>0.0</td>\n",
       "      <td>242.186005</td>\n",
       "      <td>243.548891</td>\n",
       "      <td>0</td>\n",
       "      <td>0.173639</td>\n",
       "    </tr>\n",
       "    <tr>\n",
       "      <th>4639</th>\n",
       "      <td>2022-04-07 19:00:00</td>\n",
       "      <td>241.070007</td>\n",
       "      <td>241.070007</td>\n",
       "      <td>241.070007</td>\n",
       "      <td>241.070007</td>\n",
       "      <td>241.070007</td>\n",
       "      <td>0</td>\n",
       "      <td>0.0</td>\n",
       "      <td>NaN</td>\n",
       "      <td>NaN</td>\n",
       "      <td>0</td>\n",
       "      <td>NaN</td>\n",
       "    </tr>\n",
       "  </tbody>\n",
       "</table>\n",
       "<p>4640 rows × 12 columns</p>\n",
       "</div>"
      ],
      "text/plain": [
       "                Datetime  Open_GAZP.ME  High_GAZP.ME  Low_GAZP.ME  \\\n",
       "0    2020-04-27 09:30:00    186.529999    187.380005   186.289993   \n",
       "1    2020-04-27 10:30:00    186.419998    188.080002   186.190002   \n",
       "2    2020-04-27 11:30:00    187.410004    188.470001   187.410004   \n",
       "3    2020-04-27 12:30:00    187.619995    188.339996   187.070007   \n",
       "4    2020-04-27 13:30:00    187.110001    187.440002   186.919998   \n",
       "...                  ...           ...           ...          ...   \n",
       "4635 2022-04-06 15:30:00    244.669998    246.490005   243.740005   \n",
       "4636 2022-04-06 16:30:00    245.589996    245.589996   243.509995   \n",
       "4637 2022-04-06 17:30:00    244.710007    244.759995   239.210007   \n",
       "4638 2022-04-06 18:30:00    239.990005    240.000000   239.699997   \n",
       "4639 2022-04-07 19:00:00    241.070007    241.070007   241.070007   \n",
       "\n",
       "      Close_GAZP.ME  Adj Close_GAZP.ME  Volume_GAZP.ME  Dividends  \\\n",
       "0        186.410004         186.410004         3277800        0.0   \n",
       "1        187.389999         187.389999         6242660        0.0   \n",
       "2        187.600006         187.600006         4135940        0.0   \n",
       "3        187.080002         187.080002         4553560        0.0   \n",
       "4        187.339996         187.339996         2813540        0.0   \n",
       "...             ...                ...             ...        ...   \n",
       "4635     245.460007         245.460007         1472640        0.0   \n",
       "4636     244.710007         244.710007          917480        0.0   \n",
       "4637     239.990005         239.990005         2715490        0.0   \n",
       "4638     239.699997         239.699997               0        0.0   \n",
       "4639     241.070007         241.070007               0        0.0   \n",
       "\n",
       "      moving_average_4  moving_average_8  stoch_oscil  \\\n",
       "0                  NaN               NaN            0   \n",
       "1                  NaN               NaN            0   \n",
       "2                  NaN               NaN            0   \n",
       "3           186.943750               NaN            0   \n",
       "4           187.023750               NaN            0   \n",
       "...                ...               ...          ...   \n",
       "4635        243.043753        243.414168            0   \n",
       "4636        242.787146        243.406365            0   \n",
       "4637        242.595004        243.566002            0   \n",
       "4638        242.186005        243.548891            0   \n",
       "4639               NaN               NaN            0   \n",
       "\n",
       "      stoch_oscil_Close_GAZP.ME  \n",
       "0                           NaN  \n",
       "1                           NaN  \n",
       "2                           NaN  \n",
       "3                           NaN  \n",
       "4                           NaN  \n",
       "...                         ...  \n",
       "4635                   0.160048  \n",
       "4636                   0.160048  \n",
       "4637                   0.160048  \n",
       "4638                   0.173639  \n",
       "4639                        NaN  \n",
       "\n",
       "[4640 rows x 12 columns]"
      ]
     },
     "execution_count": 497,
     "metadata": {},
     "output_type": "execute_result"
    }
   ],
   "source": [
    "def add_stoch_oscil(df, price):\n",
    "    start_time = time.time()\n",
    "    period = 14\n",
    "    df['stoch_oscil'] = 0\n",
    "    for i in range(period, len(df)):\n",
    "        c = df.iloc[i-period:i+period][price].values[-1]\n",
    "        h14 = df.iloc[i-period:i+period][price].max()\n",
    "        l14 = df.iloc[i-period:i+period][price].min()\n",
    "        df.loc[df.index == df.iloc[i-period:i].index[-1], f'stoch_oscil_{price}'] = (c - l14) / (h14 - l14)\n",
    "        \n",
    "    print(f'stochastic oscilator added, time {round(time.time() - start_time, 2)}')\n",
    "\n",
    "    return df\n",
    "\n",
    "add_stoch_oscil(df, 'Close_GAZP.ME')"
   ]
  },
  {
   "cell_type": "markdown",
   "metadata": {
    "cellId": "rktn47z74gjhwtjdbusu2f"
   },
   "source": [
    "To wrap up the indicators are applied to all close prices of the tickers:"
   ]
  },
  {
   "cell_type": "code",
   "execution_count": 522,
   "metadata": {
    "cellId": "vkvfowpn9vwb3lnoy8gzo"
   },
   "outputs": [
    {
     "name": "stdout",
     "output_type": "stream",
     "text": [
      "moving average added, time 2.53\n",
      "moving average added, time 2.59\n",
      "moving average added, time 4.0\n",
      "moving average added, time 2.58\n",
      "moving average added, time 2.59\n",
      "moving average added, time 3.97\n",
      "moving average added, time 2.6\n",
      "moving average added, time 2.6\n",
      "moving average added, time 3.89\n",
      "moving average added, time 2.61\n"
     ]
    },
    {
     "ename": "KeyboardInterrupt",
     "evalue": "",
     "output_type": "error",
     "traceback": [
      "\u001b[0;31m---------------------------------------------------------------------------\u001b[0m",
      "\u001b[0;31mKeyboardInterrupt\u001b[0m                         Traceback (most recent call last)",
      "\u001b[0;32m<ipython-input-9-14bbce3cdaad>\u001b[0m in \u001b[0;36m<module>\u001b[0;34m\u001b[0m\n\u001b[1;32m      1\u001b[0m \u001b[0;32mfor\u001b[0m \u001b[0mticker\u001b[0m \u001b[0;32min\u001b[0m \u001b[0mtickers\u001b[0m\u001b[0;34m[\u001b[0m\u001b[0;34m'all'\u001b[0m\u001b[0;34m]\u001b[0m\u001b[0;34m:\u001b[0m\u001b[0;34m\u001b[0m\u001b[0;34m\u001b[0m\u001b[0m\n\u001b[1;32m      2\u001b[0m     \u001b[0madd_moving_average\u001b[0m\u001b[0;34m(\u001b[0m\u001b[0;36m4\u001b[0m\u001b[0;34m,\u001b[0m \u001b[0mdf_agg\u001b[0m\u001b[0;34m[\u001b[0m\u001b[0mticker\u001b[0m\u001b[0;34m]\u001b[0m\u001b[0;34m,\u001b[0m \u001b[0;34mf'Close_{ticker}'\u001b[0m\u001b[0;34m)\u001b[0m\u001b[0;34m\u001b[0m\u001b[0;34m\u001b[0m\u001b[0m\n\u001b[0;32m----> 3\u001b[0;31m     \u001b[0madd_moving_average\u001b[0m\u001b[0;34m(\u001b[0m\u001b[0;36m8\u001b[0m\u001b[0;34m,\u001b[0m \u001b[0mdf_agg\u001b[0m\u001b[0;34m[\u001b[0m\u001b[0mticker\u001b[0m\u001b[0;34m]\u001b[0m\u001b[0;34m,\u001b[0m \u001b[0;34mf'Close_{ticker}'\u001b[0m\u001b[0;34m)\u001b[0m\u001b[0;34m\u001b[0m\u001b[0;34m\u001b[0m\u001b[0m\n\u001b[0m\u001b[1;32m      4\u001b[0m     \u001b[0madd_stoch_oscil\u001b[0m\u001b[0;34m(\u001b[0m\u001b[0mdf_agg\u001b[0m\u001b[0;34m[\u001b[0m\u001b[0mticker\u001b[0m\u001b[0;34m]\u001b[0m\u001b[0;34m,\u001b[0m \u001b[0;34mf'Close_{ticker}'\u001b[0m\u001b[0;34m)\u001b[0m\u001b[0;34m\u001b[0m\u001b[0;34m\u001b[0m\u001b[0m\n\u001b[1;32m      5\u001b[0m \u001b[0;31m#\u001b[0m\u001b[0;34m\u001b[0m\u001b[0;34m\u001b[0m\u001b[0;34m\u001b[0m\u001b[0m\n",
      "\u001b[0;32m<ipython-input-1-3895bca6155c>\u001b[0m in \u001b[0;36madd_moving_average\u001b[0;34m(period, df, price)\u001b[0m\n",
      "\u001b[0;32m~/.local/lib/python3.8/site-packages/pandas/core/ops/common.py\u001b[0m in \u001b[0;36mnew_method\u001b[0;34m(self, other)\u001b[0m\n\u001b[1;32m     67\u001b[0m         \u001b[0mother\u001b[0m \u001b[0;34m=\u001b[0m \u001b[0mitem_from_zerodim\u001b[0m\u001b[0;34m(\u001b[0m\u001b[0mother\u001b[0m\u001b[0;34m)\u001b[0m\u001b[0;34m\u001b[0m\u001b[0;34m\u001b[0m\u001b[0m\n\u001b[1;32m     68\u001b[0m \u001b[0;34m\u001b[0m\u001b[0m\n\u001b[0;32m---> 69\u001b[0;31m         \u001b[0;32mreturn\u001b[0m \u001b[0mmethod\u001b[0m\u001b[0;34m(\u001b[0m\u001b[0mself\u001b[0m\u001b[0;34m,\u001b[0m \u001b[0mother\u001b[0m\u001b[0;34m)\u001b[0m\u001b[0;34m\u001b[0m\u001b[0;34m\u001b[0m\u001b[0m\n\u001b[0m\u001b[1;32m     70\u001b[0m \u001b[0;34m\u001b[0m\u001b[0m\n\u001b[1;32m     71\u001b[0m     \u001b[0;32mreturn\u001b[0m \u001b[0mnew_method\u001b[0m\u001b[0;34m\u001b[0m\u001b[0;34m\u001b[0m\u001b[0m\n",
      "\u001b[0;32m~/.local/lib/python3.8/site-packages/pandas/core/arraylike.py\u001b[0m in \u001b[0;36m__eq__\u001b[0;34m(self, other)\u001b[0m\n\u001b[1;32m     30\u001b[0m     \u001b[0;34m@\u001b[0m\u001b[0munpack_zerodim_and_defer\u001b[0m\u001b[0;34m(\u001b[0m\u001b[0;34m\"__eq__\"\u001b[0m\u001b[0;34m)\u001b[0m\u001b[0;34m\u001b[0m\u001b[0;34m\u001b[0m\u001b[0m\n\u001b[1;32m     31\u001b[0m     \u001b[0;32mdef\u001b[0m \u001b[0m__eq__\u001b[0m\u001b[0;34m(\u001b[0m\u001b[0mself\u001b[0m\u001b[0;34m,\u001b[0m \u001b[0mother\u001b[0m\u001b[0;34m)\u001b[0m\u001b[0;34m:\u001b[0m\u001b[0;34m\u001b[0m\u001b[0;34m\u001b[0m\u001b[0m\n\u001b[0;32m---> 32\u001b[0;31m         \u001b[0;32mreturn\u001b[0m \u001b[0mself\u001b[0m\u001b[0;34m.\u001b[0m\u001b[0m_cmp_method\u001b[0m\u001b[0;34m(\u001b[0m\u001b[0mother\u001b[0m\u001b[0;34m,\u001b[0m \u001b[0moperator\u001b[0m\u001b[0;34m.\u001b[0m\u001b[0meq\u001b[0m\u001b[0;34m)\u001b[0m\u001b[0;34m\u001b[0m\u001b[0;34m\u001b[0m\u001b[0m\n\u001b[0m\u001b[1;32m     33\u001b[0m \u001b[0;34m\u001b[0m\u001b[0m\n\u001b[1;32m     34\u001b[0m     \u001b[0;34m@\u001b[0m\u001b[0munpack_zerodim_and_defer\u001b[0m\u001b[0;34m(\u001b[0m\u001b[0;34m\"__ne__\"\u001b[0m\u001b[0;34m)\u001b[0m\u001b[0;34m\u001b[0m\u001b[0;34m\u001b[0m\u001b[0m\n",
      "\u001b[0;32m~/.local/lib/python3.8/site-packages/pandas/core/indexes/base.py\u001b[0m in \u001b[0;36m_cmp_method\u001b[0;34m(self, other, op)\u001b[0m\n\u001b[1;32m   6059\u001b[0m         \u001b[0;32melse\u001b[0m\u001b[0;34m:\u001b[0m\u001b[0;34m\u001b[0m\u001b[0;34m\u001b[0m\u001b[0m\n\u001b[1;32m   6060\u001b[0m             \u001b[0;32mwith\u001b[0m \u001b[0mnp\u001b[0m\u001b[0;34m.\u001b[0m\u001b[0merrstate\u001b[0m\u001b[0;34m(\u001b[0m\u001b[0mall\u001b[0m\u001b[0;34m=\u001b[0m\u001b[0;34m\"ignore\"\u001b[0m\u001b[0;34m)\u001b[0m\u001b[0;34m:\u001b[0m\u001b[0;34m\u001b[0m\u001b[0;34m\u001b[0m\u001b[0m\n\u001b[0;32m-> 6061\u001b[0;31m                 \u001b[0mresult\u001b[0m \u001b[0;34m=\u001b[0m \u001b[0mops\u001b[0m\u001b[0;34m.\u001b[0m\u001b[0mcomparison_op\u001b[0m\u001b[0;34m(\u001b[0m\u001b[0mself\u001b[0m\u001b[0;34m.\u001b[0m\u001b[0m_values\u001b[0m\u001b[0;34m,\u001b[0m \u001b[0mother\u001b[0m\u001b[0;34m,\u001b[0m \u001b[0mop\u001b[0m\u001b[0;34m)\u001b[0m\u001b[0;34m\u001b[0m\u001b[0;34m\u001b[0m\u001b[0m\n\u001b[0m\u001b[1;32m   6062\u001b[0m \u001b[0;34m\u001b[0m\u001b[0m\n\u001b[1;32m   6063\u001b[0m         \u001b[0;32mreturn\u001b[0m \u001b[0mresult\u001b[0m\u001b[0;34m\u001b[0m\u001b[0;34m\u001b[0m\u001b[0m\n",
      "\u001b[0;32m~/.local/lib/python3.8/site-packages/pandas/core/ops/array_ops.py\u001b[0m in \u001b[0;36mcomparison_op\u001b[0;34m(left, right, op)\u001b[0m\n\u001b[1;32m    285\u001b[0m \u001b[0;34m\u001b[0m\u001b[0m\n\u001b[1;32m    286\u001b[0m     \u001b[0;32melse\u001b[0m\u001b[0;34m:\u001b[0m\u001b[0;34m\u001b[0m\u001b[0;34m\u001b[0m\u001b[0m\n\u001b[0;32m--> 287\u001b[0;31m         \u001b[0mres_values\u001b[0m \u001b[0;34m=\u001b[0m \u001b[0m_na_arithmetic_op\u001b[0m\u001b[0;34m(\u001b[0m\u001b[0mlvalues\u001b[0m\u001b[0;34m,\u001b[0m \u001b[0mrvalues\u001b[0m\u001b[0;34m,\u001b[0m \u001b[0mop\u001b[0m\u001b[0;34m,\u001b[0m \u001b[0mis_cmp\u001b[0m\u001b[0;34m=\u001b[0m\u001b[0;32mTrue\u001b[0m\u001b[0;34m)\u001b[0m\u001b[0;34m\u001b[0m\u001b[0;34m\u001b[0m\u001b[0m\n\u001b[0m\u001b[1;32m    288\u001b[0m \u001b[0;34m\u001b[0m\u001b[0m\n\u001b[1;32m    289\u001b[0m     \u001b[0;32mreturn\u001b[0m \u001b[0mres_values\u001b[0m\u001b[0;34m\u001b[0m\u001b[0;34m\u001b[0m\u001b[0m\n",
      "\u001b[0;32m~/.local/lib/python3.8/site-packages/pandas/core/ops/array_ops.py\u001b[0m in \u001b[0;36m_na_arithmetic_op\u001b[0;34m(left, right, op, is_cmp)\u001b[0m\n\u001b[1;32m    164\u001b[0m \u001b[0;34m\u001b[0m\u001b[0m\n\u001b[1;32m    165\u001b[0m     \u001b[0;32mtry\u001b[0m\u001b[0;34m:\u001b[0m\u001b[0;34m\u001b[0m\u001b[0;34m\u001b[0m\u001b[0m\n\u001b[0;32m--> 166\u001b[0;31m         \u001b[0mresult\u001b[0m \u001b[0;34m=\u001b[0m \u001b[0mfunc\u001b[0m\u001b[0;34m(\u001b[0m\u001b[0mleft\u001b[0m\u001b[0;34m,\u001b[0m \u001b[0mright\u001b[0m\u001b[0;34m)\u001b[0m\u001b[0;34m\u001b[0m\u001b[0;34m\u001b[0m\u001b[0m\n\u001b[0m\u001b[1;32m    167\u001b[0m     \u001b[0;32mexcept\u001b[0m \u001b[0mTypeError\u001b[0m\u001b[0;34m:\u001b[0m\u001b[0;34m\u001b[0m\u001b[0;34m\u001b[0m\u001b[0m\n\u001b[1;32m    168\u001b[0m         \u001b[0;32mif\u001b[0m \u001b[0mis_object_dtype\u001b[0m\u001b[0;34m(\u001b[0m\u001b[0mleft\u001b[0m\u001b[0;34m)\u001b[0m \u001b[0;32mor\u001b[0m \u001b[0mis_object_dtype\u001b[0m\u001b[0;34m(\u001b[0m\u001b[0mright\u001b[0m\u001b[0;34m)\u001b[0m \u001b[0;32mand\u001b[0m \u001b[0;32mnot\u001b[0m \u001b[0mis_cmp\u001b[0m\u001b[0;34m:\u001b[0m\u001b[0;34m\u001b[0m\u001b[0;34m\u001b[0m\u001b[0m\n",
      "\u001b[0;32m~/.local/lib/python3.8/site-packages/pandas/core/computation/expressions.py\u001b[0m in \u001b[0;36mevaluate\u001b[0;34m(op, a, b, use_numexpr)\u001b[0m\n\u001b[1;32m    237\u001b[0m         \u001b[0;32mif\u001b[0m \u001b[0muse_numexpr\u001b[0m\u001b[0;34m:\u001b[0m\u001b[0;34m\u001b[0m\u001b[0;34m\u001b[0m\u001b[0m\n\u001b[1;32m    238\u001b[0m             \u001b[0;31m# error: \"None\" not callable\u001b[0m\u001b[0;34m\u001b[0m\u001b[0;34m\u001b[0m\u001b[0;34m\u001b[0m\u001b[0m\n\u001b[0;32m--> 239\u001b[0;31m             \u001b[0;32mreturn\u001b[0m \u001b[0m_evaluate\u001b[0m\u001b[0;34m(\u001b[0m\u001b[0mop\u001b[0m\u001b[0;34m,\u001b[0m \u001b[0mop_str\u001b[0m\u001b[0;34m,\u001b[0m \u001b[0ma\u001b[0m\u001b[0;34m,\u001b[0m \u001b[0mb\u001b[0m\u001b[0;34m)\u001b[0m  \u001b[0;31m# type: ignore[misc]\u001b[0m\u001b[0;34m\u001b[0m\u001b[0;34m\u001b[0m\u001b[0m\n\u001b[0m\u001b[1;32m    240\u001b[0m     \u001b[0;32mreturn\u001b[0m \u001b[0m_evaluate_standard\u001b[0m\u001b[0;34m(\u001b[0m\u001b[0mop\u001b[0m\u001b[0;34m,\u001b[0m \u001b[0mop_str\u001b[0m\u001b[0;34m,\u001b[0m \u001b[0ma\u001b[0m\u001b[0;34m,\u001b[0m \u001b[0mb\u001b[0m\u001b[0;34m)\u001b[0m\u001b[0;34m\u001b[0m\u001b[0;34m\u001b[0m\u001b[0m\n\u001b[1;32m    241\u001b[0m \u001b[0;34m\u001b[0m\u001b[0m\n",
      "\u001b[0;32m~/.local/lib/python3.8/site-packages/pandas/core/computation/expressions.py\u001b[0m in \u001b[0;36m_evaluate_numexpr\u001b[0;34m(op, op_str, a, b)\u001b[0m\n\u001b[1;32m    126\u001b[0m \u001b[0;34m\u001b[0m\u001b[0m\n\u001b[1;32m    127\u001b[0m     \u001b[0;32mif\u001b[0m \u001b[0mresult\u001b[0m \u001b[0;32mis\u001b[0m \u001b[0;32mNone\u001b[0m\u001b[0;34m:\u001b[0m\u001b[0;34m\u001b[0m\u001b[0;34m\u001b[0m\u001b[0m\n\u001b[0;32m--> 128\u001b[0;31m         \u001b[0mresult\u001b[0m \u001b[0;34m=\u001b[0m \u001b[0m_evaluate_standard\u001b[0m\u001b[0;34m(\u001b[0m\u001b[0mop\u001b[0m\u001b[0;34m,\u001b[0m \u001b[0mop_str\u001b[0m\u001b[0;34m,\u001b[0m \u001b[0ma\u001b[0m\u001b[0;34m,\u001b[0m \u001b[0mb\u001b[0m\u001b[0;34m)\u001b[0m\u001b[0;34m\u001b[0m\u001b[0;34m\u001b[0m\u001b[0m\n\u001b[0m\u001b[1;32m    129\u001b[0m \u001b[0;34m\u001b[0m\u001b[0m\n\u001b[1;32m    130\u001b[0m     \u001b[0;32mreturn\u001b[0m \u001b[0mresult\u001b[0m\u001b[0;34m\u001b[0m\u001b[0;34m\u001b[0m\u001b[0m\n",
      "\u001b[0;32m~/.local/lib/python3.8/site-packages/pandas/core/computation/expressions.py\u001b[0m in \u001b[0;36m_evaluate_standard\u001b[0;34m(op, op_str, a, b)\u001b[0m\n\u001b[1;32m     67\u001b[0m     \u001b[0;32mif\u001b[0m \u001b[0m_TEST_MODE\u001b[0m\u001b[0;34m:\u001b[0m\u001b[0;34m\u001b[0m\u001b[0;34m\u001b[0m\u001b[0m\n\u001b[1;32m     68\u001b[0m         \u001b[0m_store_test_result\u001b[0m\u001b[0;34m(\u001b[0m\u001b[0;32mFalse\u001b[0m\u001b[0;34m)\u001b[0m\u001b[0;34m\u001b[0m\u001b[0;34m\u001b[0m\u001b[0m\n\u001b[0;32m---> 69\u001b[0;31m     \u001b[0;32mreturn\u001b[0m \u001b[0mop\u001b[0m\u001b[0;34m(\u001b[0m\u001b[0ma\u001b[0m\u001b[0;34m,\u001b[0m \u001b[0mb\u001b[0m\u001b[0;34m)\u001b[0m\u001b[0;34m\u001b[0m\u001b[0;34m\u001b[0m\u001b[0m\n\u001b[0m\u001b[1;32m     70\u001b[0m \u001b[0;34m\u001b[0m\u001b[0m\n\u001b[1;32m     71\u001b[0m \u001b[0;34m\u001b[0m\u001b[0m\n",
      "\u001b[0;31mKeyboardInterrupt\u001b[0m: "
     ]
    }
   ],
   "source": [
    "for ticker in tickers['all']:    \n",
    "    add_moving_average(4, df_agg[ticker], f'Close_{ticker}')\n",
    "    add_moving_average(8, df_agg[ticker], f'Close_{ticker}')\n",
    "    add_stoch_oscil(df_agg[ticker], f'Close_{ticker}')"
   ]
  },
  {
   "cell_type": "code",
   "execution_count": null,
   "metadata": {
    "cellId": "1qq1j1r7ib9htbsmaiv9sa"
   },
   "outputs": [],
   "source": []
  },
  {
   "cell_type": "code",
   "execution_count": null,
   "metadata": {
    "cellId": "9o3h2nyyxgaly12zq3ou5"
   },
   "outputs": [],
   "source": [
    "x = df.drop('Close', axis=1).copy()\n",
    "print(x.shape)\n",
    "y = df.Close\n",
    "xScaler, yScaler = MinMaxScaler((0,1)), MinMaxScaler((0,1))\n",
    "xSc, ySc = xScaler.fit_transform(x), yScaler.fit_transform(y.values.reshape(-1, 1))\n",
    "\n",
    "print([x.shape, xSc.shape], [y.shape, ySc.shape])\n",
    "\n",
    "xTr = xSc[:len(df[df.index.strftime('%Y-%m-%d') <= d])]\n",
    "xTs = xSc[len(df[df.index.strftime('%Y-%m-%d') <= d]):]\n",
    "yTr = ySc[:len(df[df.index.strftime('%Y-%m-%d') <= d])]\n",
    "yTs = ySc[len(df[df.index.strftime('%Y-%m-%d') <= d]):]"
   ]
  },
  {
   "cell_type": "code",
   "execution_count": null,
   "metadata": {
    "cellId": "sjhmnxuehg8szkwemeli4"
   },
   "outputs": [],
   "source": []
  },
  {
   "cell_type": "markdown",
   "metadata": {
    "cellId": "wznbucjpgeeoxyx383s"
   },
   "source": [
    "# TEXT FEATURES"
   ]
  },
  {
   "cell_type": "code",
   "execution_count": null,
   "metadata": {
    "cellId": "i9lvm3jesvbzjhjyg59e7k"
   },
   "outputs": [],
   "source": [
    "yf.Ticker(tickers['all'][0]).news"
   ]
  },
  {
   "cell_type": "code",
   "execution_count": null,
   "metadata": {
    "cellId": "5z04t455mlnod2ff60h3c"
   },
   "outputs": [],
   "source": [
    "# init container\n",
    "text_container = dict()"
   ]
  },
  {
   "cell_type": "markdown",
   "metadata": {
    "cellId": "fn0zdhgai7js51ee8nz5ej"
   },
   "source": [
    "## FINAM"
   ]
  },
  {
   "cell_type": "code",
   "execution_count": null,
   "metadata": {
    "cellId": "eka53vxq1yg3qk10y0e81x"
   },
   "outputs": [],
   "source": [
    "def from_finam(company):\n",
    "    finam_url = f'https://www.finam.ru/profile/moex-akcii/{company}/analytics/'\n",
    "    page = requests.get(finam_url)\n",
    "    soup = BeautifulSoup(page.text, 'html.parser')\n",
    "\n",
    "    finam_news = {}\n",
    "    for news, date in zip(\n",
    "        [nw.parent.text for nw in soup.findAll(class_=\"ReviewNote__reviewTitle--1lt\")],\n",
    "        [d.find(target=\"_blank\").text for d in soup.findAll(class_=\"ReviewNote__reviewDate--3sf\")]):\n",
    "        finam_news[date] = news\n",
    "        \n",
    "    return finam_news\n",
    "\n",
    "finam_news = from_finam('gazprom')\n",
    "\n",
    "# convert dates to timedelta\n",
    "for k, v in finam_news.items():\n",
    "    text_container[datetime.strptime(k, '%d.%m.%Y %H:%M')] = v"
   ]
  },
  {
   "cell_type": "markdown",
   "metadata": {
    "cellId": "lxr4kx0p56sd1qwtauad6o"
   },
   "source": [
    "## BCS"
   ]
  },
  {
   "cell_type": "code",
   "execution_count": null,
   "metadata": {
    "cellId": "vqrhfoy3kvnxp0kydj1v"
   },
   "outputs": [],
   "source": [
    "def from_bcs(company):\n",
    "    url = f'https://bcs-express.ru/search?q={company}'\n",
    "    \n",
    "    page = requests.get(url)\n",
    "    soup = BeautifulSoup(page.text, 'html.parser')\n",
    "    \n",
    "    bcs_news = {}\n",
    "    for news, date in zip(\n",
    "        [nw.text for nw in soup.findAll(class_=\"search-result__item\")],\n",
    "        [d.text for d in soup.findAll(class_=\"search-result__item-date\")]):\n",
    "        bcs_news[date] = news\n",
    "\n",
    "    return bcs_news\n",
    "\n",
    "bcs_news = from_bcs('газпром')"
   ]
  },
  {
   "cell_type": "code",
   "execution_count": null,
   "metadata": {
    "cellId": "o5lupd1n3roshlwykdkfk"
   },
   "outputs": [],
   "source": [
    "ru_month = {\n",
    "    'января' : '01', 'февраля' : '02', 'марта' : '03', 'апреля' : '04',\n",
    "    'мая' : '05', 'июня' : '06', 'июля' : '07', 'августа' : '08',\n",
    "    'сентябрря' : '09', 'октября' : '10', 'ноября' : '11', 'декабря' : '12',\n",
    "}"
   ]
  },
  {
   "cell_type": "code",
   "execution_count": null,
   "metadata": {
    "cellId": "b89bkz4mnqd2brm8pz135"
   },
   "outputs": [],
   "source": [
    "ru_month[list(bcs_news.keys())[0].split(' ')[1]]"
   ]
  },
  {
   "cell_type": "code",
   "execution_count": null,
   "metadata": {
    "cellId": "mhz39tvu8os7ejptassc7e"
   },
   "outputs": [],
   "source": [
    "' '.join(list(bcs_news.keys())[0].split(' '))"
   ]
  },
  {
   "cell_type": "code",
   "execution_count": null,
   "metadata": {
    "cellId": "bueow4h319dp37eltp8kso"
   },
   "outputs": [],
   "source": [
    "# convert dates to timedelta\n",
    "for k, v in finam_news.items():\n",
    "    k = k.split(' ')\n",
    "    k[1] = ru_month[k[1]]\n",
    "    d = datetime.strptime(' '.join(k), '%d %m %Y, %H:%M')\n",
    "    text_container[d] = v"
   ]
  },
  {
   "cell_type": "markdown",
   "metadata": {
    "cellId": "cnzpvtf62pimkzmmkotvai"
   },
   "source": [
    "## TINK"
   ]
  },
  {
   "cell_type": "code",
   "execution_count": null,
   "metadata": {
    "cellId": "05utk1hujm84rzlqq1q8lch"
   },
   "outputs": [],
   "source": [
    "company = 'GAZP'\n",
    "url = f'https://www.tinkoff.ru/invest/stocks/{company}/news/'"
   ]
  },
  {
   "cell_type": "code",
   "execution_count": null,
   "metadata": {
    "cellId": "0oet8wqo8dznvtmmh9agwn"
   },
   "outputs": [],
   "source": [
    "page = requests.get(url)\n",
    "soup = BeautifulSoup(page.text, 'html.parser')"
   ]
  },
  {
   "cell_type": "code",
   "execution_count": null,
   "metadata": {
    "cellId": "v2qt59wa8ioik06472iy"
   },
   "outputs": [],
   "source": [
    "tink_news = {}\n",
    "for news, date in zip(\n",
    "    [nw.text for nw in soup.find_all(class_='NewsItem__announce_vW9LX')],\n",
    "    [d.text for d in soup.find_all(attrs={'class':'NewsItem__footer_Nh5KD', 'data-qa-file':\"NewsItem\"})]):\n",
    "    tink_news[date] = news\n",
    "    \n",
    "tink_news"
   ]
  },
  {
   "cell_type": "markdown",
   "metadata": {
    "cellId": "of2pjkf40jc60l4lertll"
   },
   "source": [
    "## RECOMMENDATIONS"
   ]
  },
  {
   "cell_type": "code",
   "execution_count": null,
   "metadata": {
    "cellId": "qd0quzlke873l2dch3uai"
   },
   "outputs": [],
   "source": [
    "company = 'GAZP'\n",
    "url = f'https://www.tinkoff.ru/invest/stocks/{company}/news/'"
   ]
  },
  {
   "cell_type": "code",
   "execution_count": null,
   "metadata": {
    "cellId": "gx9bcxqkc5tnqf941z44zj"
   },
   "outputs": [],
   "source": []
  },
  {
   "cell_type": "markdown",
   "metadata": {
    "cellId": "ab9o7pi0s2y9plrjbx4x"
   },
   "source": [
    "## NEWS API"
   ]
  },
  {
   "cell_type": "markdown",
   "metadata": {
    "cellId": "1vovhm6sik3jfqit7r5uqx7"
   },
   "source": [
    "To get the news on the ticker I shall use the open-source API - [NewsAPI](https://github.com/mattlisiv/newsapi-python). Quite easy and fast to deploy, all you need is:\n",
    "\n",
    "1. install the lib via ``` pip install newsapi-python ```\n",
    "\n",
    "2. [get the API key](https://newsapi.org/register)"
   ]
  },
  {
   "cell_type": "code",
   "execution_count": null,
   "metadata": {
    "cellId": "0cu98srqi97t2iajoivqotd"
   },
   "outputs": [],
   "source": [
    "!pip install newsapi-python\n",
    "clear_output()"
   ]
  },
  {
   "cell_type": "code",
   "execution_count": null,
   "metadata": {
    "cellId": "95qm95162kpf5h0s253ks8"
   },
   "outputs": [],
   "source": [
    "# get token\n",
    "token = 'newsapi_token.txt'\n",
    "token = from_s3(token).read().decode('UTF-8')\n",
    "\n",
    "# init client\n",
    "newsapi = NewsApiClient(api_key = token)"
   ]
  },
  {
   "cell_type": "markdown",
   "metadata": {
    "cellId": "6ye4mlbzafx4h0iev71t6l"
   },
   "source": [
    "All is ready to get the news. Free newsapi plan allows only to get the news 1 month back but that should be sufficient."
   ]
  },
  {
   "cell_type": "code",
   "execution_count": null,
   "metadata": {
    "cellId": "a1hf2nsokg60tqtwds5t9"
   },
   "outputs": [],
   "source": [
    "en_articles = newsapi.get_everything(\n",
    "    q = 'gazprom',\n",
    "    from_param = '2021-12-02',\n",
    "    language = 'en',\n",
    "    sort_by = 'relevancy'\n",
    ")\n",
    "\n",
    "len(en_articles['articles'])"
   ]
  },
  {
   "cell_type": "code",
   "execution_count": null,
   "metadata": {
    "cellId": "crkeekujqzmi49ef01st6m"
   },
   "outputs": [],
   "source": [
    "en_articles"
   ]
  },
  {
   "cell_type": "markdown",
   "metadata": {
    "cellId": "0wmvh58idpdmmphwu40b19"
   },
   "source": [
    "Since the company under the ticker is based in the Russian Federation I want to get фдыщ the news in Russian, thus I filter the respective sources:"
   ]
  },
  {
   "cell_type": "code",
   "execution_count": null,
   "metadata": {
    "cellId": "wynu8kgc35h3zaebf04ur1"
   },
   "outputs": [],
   "source": [
    "# get sources in Russian\n",
    "rus_sources = []\n",
    "for s in newsapi.get_sources()['sources']:\n",
    "    if s['language'] == 'ru':\n",
    "        rus_sources.append(s['name'])\n",
    "print(rus_sources)"
   ]
  },
  {
   "cell_type": "code",
   "execution_count": null,
   "metadata": {
    "cellId": "6huw7ey7hvnkwb5sx452hf"
   },
   "outputs": [],
   "source": []
  },
  {
   "cell_type": "code",
   "execution_count": null,
   "metadata": {
    "cellId": "zzph865nbjdgxhoe2cfm8"
   },
   "outputs": [],
   "source": [
    "ru_articles = newsapi.get_everything(\n",
    "    q = 'газпром',\n",
    "    sources = str(rus_sources)[1:-1].replace(\"'\", \"\"),\n",
    "    from_param = '2021-12-02',\n",
    "    language = 'ru',\n",
    "    sort_by = 'relevancy'\n",
    ")\n",
    "\n",
    "len(ru_articles['articles'])"
   ]
  },
  {
   "cell_type": "code",
   "execution_count": null,
   "metadata": {
    "cellId": "skk7k746ag0ze5ndoukvq"
   },
   "outputs": [],
   "source": []
  }
 ],
 "metadata": {
  "instance_type": "ml.t3.medium",
  "language_info": {
   "codemirror_mode": {
    "name": "ipython",
    "version": 3
   },
   "file_extension": ".py",
   "mimetype": "text/x-python",
   "name": "python",
   "nbconvert_exporter": "python",
   "pygments_lexer": "ipython3",
   "version": "3.7.7"
  },
  "notebookId": "4d6fd67b-bdfd-4428-ae00-9f3d4e2e82b5",
  "notebookPath": "my_ai.ipynb"
 },
 "nbformat": 4,
 "nbformat_minor": 4
}
